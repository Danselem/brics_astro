{
 "cells": [
  {
   "cell_type": "markdown",
   "id": "99050a7e-779a-4403-848b-8b60108e7c9c",
   "metadata": {},
   "source": [
    "# The Time Domain in Astronomy\n",
    "## Understanding Variability and Transients\n",
    "\n",
    "Astronomical observation fundamentally involves recording light and other radiation from celestial objects. While much of traditional astronomy focuses on the static properties of these objects (their position, average brightness, spectral type), a significant and increasingly important area of research is understanding how they change over time. This field is known as **Time Domain Astronomy**.\n",
    "\n",
    "The variability of celestial objects provides insights into the physical processes driving them. These changes can occur on timescales ranging from milliseconds (e.g., pulsar pulses) to years (e.g., stellar cycles, orbital periods of binary stars) or even millennia (e.g., the evolution of supernova remnants).\n",
    "\n",
    "A particularly exciting subset of time domain astronomy focuses on **transient** events – a phenomena that appear suddenly, change rapidly, and then fades away. Examples include supernovae (exploding stars), gamma-ray bursts, stellar flares, or tidal disruption events (when a star gets too close to a black hole). \n",
    "\n",
    "\n",
    "Detecting and characterizing these transients requires continuous monitoring of large areas of the sky. Modern survey telescopes like the Zwicky Transient Facility (ZTF) and the upcoming Vera C. Rubin Observatory (LSST) are specifically designed for this purpose, generating vast amounts of time series data.\n",
    "\n",
    "This notebook introduces the core concept of **time series data** in astronomy, focusing on the measurement of an object's brightness over time, and how we begin to handle and visualize this data in Python, utilizing the `astropy.time` module for time representation.\n",
    "\n",
    "**Learning Objectives:**\n",
    "\n",
    "*   Understand the definition and significance of time series data in astronomy.\n",
    "*   Distinguish between variable and transient astronomical phenomena.\n",
    "*   Relate the concepts of astronomical brightness (flux and magnitude) to their variation over time.\n",
    "*   Learn about the **light curve** as the primary tool for visualizing brightness changes.\n",
    "*   Represent simple time series data in Python.\n",
    "*   Utilize the `astropy.time` module for handling astronomical time.\n",
    "*   Explore examples of variability across different electromagnetic wavelengths.\n",
    "\n",
    "**Prerequisites:**\n",
    "\n",
    "*   Basic familiarity with Python syntax (variables, data types, lists, basic loops).\n",
    "*   Basic understanding of NumPy arrays and Matplotlib plotting concepts.\n",
    "*   Familiarity time. This includes both periodic and aperiodic changes, and can encompass transients as a subset.\n",
    "*   Familiarity with Jupyter Notebooks.\n",
    "\n",
    "**Key Terms:**\n",
    "\n",
    "*   **Time Series Data:** A time series is a sequence of measurements of a property (such as brightness, position, or velocity) recorded at successive points in time.\n",
    "*   **Time Domain Astronomy:** The branch of astronomy that studies how celestial objects change over time. Phenomena such as erupting stars, supernovae explosions, active galactic nuclei flares, and orbiting exoplanets reveal themselves through variations in their observed characteristics.\n",
    "*   **Light Curve:** A graph plotting the brightness (typically flux or magnitude) of an astronomical object as a function of time.\n",
    "*   **Transient:** An astronomical object or phenomenon that is short-lived, appearing or changing significantly in brightness or other properties over a relatively brief period (e.g., supernovae, gamma-ray bursts, stellar flares).\n",
    "*   **Variable Object:** An astronomical object whose brightness, spectrum, or other properties change over of brightness (flux and magnitude) to time in the context of light curves.\n",
    "*   **Flux:** A physical measure of the rate of energy flow from an astronomical source per unit area (e.g., measured in Watts per square meter or Janskys). Increasing flux means increasing brightness.\n",
    "*   **Magnitude:** A logarithmic scale for measuring the apparent brightness of an object, primarily used in optical and near-infrared astronomy. The magnitude scale is **inverted**: a smaller magnitude number corresponds to a brighter object.\n",
    "*   **Epoch:** A specific point in time relevant in time.\n",
    "*   **Variable Star:** A star whose brightness fluctuates to an observation or astronomical event."
   ]
  },
  {
   "cell_type": "markdown",
   "id": "45e1a69b-7ef2-4b5c-9778-5d8bc9c81c7c",
   "metadata": {},
   "source": [
    "## The Concept of Time in Astronomical Observations\n",
    "\n",
    "Understanding how astronomical objects change requires accurately recording when observations are made. While a standard clock on Earth gives us a convenient measure of local time, precise astronomical comparisons, especially in **Time Domain Astronomy**, necessitate a more rigorous approach.\n",
    "\n",
    "The complexity arises because our telescopes are located on a moving platform: the Earth. The Earth rotates on its axis and orbits the Sun. These motions affect the exact moment light from a distant source arrives at the telescope compared to when it would arrive at a fixed, inertial point (like the center of mass of the Solar System, the barycenter). Relativistic effects, though often small, can also play a role for high-precision work.\n",
    "\n",
    "To overcome this, astronomers use standard astronomical timescales and coordinate systems. These scales provide a uniform reference, allowing observations taken at different locations or significantly different times to be compared consistently. For example, **Barycentric Julian Date (BJD)** is a widely used timescale that corrects the observation time to the moment light would have arrived at the Solar System barycenter. Using a standard scale ensures that observed variations (like the dip during an exoplanet transit) are physically real events occurring at a consistent time relative to the source, rather than artifacts of the observer's motion.\n",
    "\n",
    "Handling these various timescales and formats (like Julian Date, Modified Julian Date, or precise calendar representations) accurately in computational analysis is crucial. In Python, the `astropy.time` module is the standard and recommended library specifically designed for this purpose, providing tools to represent, convert, and perform arithmetic with astronomical time coordinates."
   ]
  },
  {
   "cell_type": "markdown",
   "id": "dd2472d5-9028-4ae8-a577-cfe75733e100",
   "metadata": {},
   "source": [
    "## Handling Astronomical Time with Astropy\n",
    "\n",
    "Accurately representing and manipulating time is fundamental in time domain astronomy. Observations from different telescopes, locations, or epochs need to be compared in a consistent framework. Simple numerical counts (like \"days since the first observation\") are not sufficient for precise astronomical work due to complexities like Earth's motion, rotation, and relativistic effects.\n",
    "\n",
    "The `astropy.time` module provides a powerful and flexible way to handle astronomical time coordinates. The core object is `astropy.time.Time`. It allows you to:\n",
    "\n",
    "*   Create time objects from various standard formats (e.g., ISO 8601 strings, Julian Date, Modified Julian Date).\n",
    "*   Specify the appropriate **time scale** (e.g., UTC, Barycentric Julian Date - BJD, Terrestrial Time - TT).\n",
    "*   Convert between different time scales and formats.\n",
    "*   Perform arithmetic operations with time objects.\n",
    "*   Prepare time data for accurate plotting on a time axis.\n",
    "\n",
    "Let's look at a few examples of how to create and manipulate Astropy Time Objects\n",
    "First, let's import the modules."
   ]
  },
  {
   "cell_type": "code",
   "execution_count": 4,
   "id": "98ccbdda-61ae-42f3-8dd5-57524516b768",
   "metadata": {},
   "outputs": [],
   "source": [
    "import numpy as np\n",
    "from astropy.time import Time\n",
    "import astropy.units as u # Import units for time arithmetic"
   ]
  },
  {
   "cell_type": "markdown",
   "id": "8b52d199-d699-488a-9ab5-326d31556704",
   "metadata": {},
   "source": [
    "### Creating Time Objects\n",
    "Let's look at the different time formats. All `astropy` time formats can be found at <https://docs.astropy.org/en/stable/time/index.html#time-format>.\n",
    "\n",
    "\n",
    "#### 1. From a standard calendar date/time string (ISO 8601 format)\n",
    "Specify the time scale, e.g., `utc` for Coordinated Universal Time"
   ]
  },
  {
   "cell_type": "code",
   "execution_count": 5,
   "id": "303a369e-7e8f-4ca4-86ba-524f8910abbf",
   "metadata": {},
   "outputs": [
    {
     "name": "stdout",
     "output_type": "stream",
     "text": [
      "Time from ISO string (UTC): 2023-11-15 12:00:00.000\n"
     ]
    }
   ],
   "source": [
    "observation_time_utc = Time('2023-11-15 12:00:00', scale='utc')\n",
    "print(f\"Time from ISO string (UTC): {observation_time_utc.iso}\")"
   ]
  },
  {
   "cell_type": "markdown",
   "id": "2eb130ee-5ea2-42e3-a02f-b1f0fc3b6492",
   "metadata": {},
   "source": [
    "#### 2. From Julian Date (JD)\n",
    "Julian Date or `JD` is a continuous count of days since noon Universal Time on Jan 1, 4713 BC. See <https://www.aavso.org/about-jd> for more details on JD."
   ]
  },
  {
   "cell_type": "code",
   "execution_count": 6,
   "id": "6ab167fb-44f8-4dc0-bf1a-d3e02c9203f8",
   "metadata": {},
   "outputs": [
    {
     "name": "stdout",
     "output_type": "stream",
     "text": [
      "Time from Julian Date (UTC): 2460265.0\n"
     ]
    }
   ],
   "source": [
    "time_jd_number = 2460265.0 # Corresponds to 2023-11-16 00:00:00 UTC\n",
    "obs_time_jd = Time(time_jd_number, format='jd', scale='utc')\n",
    "print(f\"Time from Julian Date (UTC): {obs_time_jd.jd}\")"
   ]
  },
  {
   "cell_type": "markdown",
   "id": "333f49cb-13c6-44dd-b333-328d1353bd8b",
   "metadata": {},
   "source": [
    "#### 3. From Modified Julian Date (MJD)\n",
    "`MJD` is days since Nov 17, 1858, common in astronomical archives. For more on MJD, see <https://core2.gsfc.nasa.gov/time/>"
   ]
  },
  {
   "cell_type": "code",
   "execution_count": 7,
   "id": "6ba5ef60-0c89-486d-9265-ddd12322d77a",
   "metadata": {},
   "outputs": [
    {
     "name": "stdout",
     "output_type": "stream",
     "text": [
      "Time from MJD number (UTC): 60264.5\n"
     ]
    }
   ],
   "source": [
    "time_mjd_number = 60264.5 # Corresponds to 2023-11-15 00:00:00 UTC\n",
    "obs_time_mjd = Time(time_mjd_number, format='mjd', scale='utc')\n",
    "print(f\"Time from MJD number (UTC): {obs_time_mjd.mjd}\")"
   ]
  },
  {
   "cell_type": "markdown",
   "id": "f8a15387-890d-492f-8a96-eb066136723d",
   "metadata": {},
   "source": [
    "### Converting Between Formats\n",
    "\n",
    "Let's convert our UTC Time object to other formats"
   ]
  },
  {
   "cell_type": "code",
   "execution_count": 8,
   "id": "339cf7b0-4689-4932-a98d-908e441c4d3f",
   "metadata": {},
   "outputs": [
    {
     "name": "stdout",
     "output_type": "stream",
     "text": [
      "\n",
      "2023-11-15 12:00:00.000 in MJD: 60263.5\n",
      "2023-11-15 12:00:00.000 in JD: 2460264.0\n"
     ]
    }
   ],
   "source": [
    "print(f\"\\n{observation_time_utc.iso} in MJD: {observation_time_utc.mjd}\")\n",
    "print(f\"{observation_time_utc.iso} in JD: {observation_time_utc.jd}\")"
   ]
  },
  {
   "cell_type": "code",
   "execution_count": 9,
   "id": "cb7a07be-c4a3-4730-bf03-657b4163e0d3",
   "metadata": {},
   "outputs": [
    {
     "name": "stdout",
     "output_type": "stream",
     "text": [
      "\n",
      "Time + 1 day 6 hours: 2023-11-16 18:00:00.000\n"
     ]
    }
   ],
   "source": [
    "# --- Performing Time Arithmetic ---\n",
    "\n",
    "# Add 1 day and 6 hours to the observation time\n",
    "time_plus_day_hours = observation_time_utc + 1*u.day + 6*u.hour\n",
    "print(f\"\\nTime + 1 day 6 hours: {time_plus_day_hours.iso}\")"
   ]
  },
  {
   "cell_type": "code",
   "execution_count": 10,
   "id": "d9320074-c9bc-46e2-ba41-f1f77312e8d0",
   "metadata": {},
   "outputs": [
    {
     "name": "stdout",
     "output_type": "stream",
     "text": [
      "Time difference: 0.5\n",
      "Time difference in hours: 12.0 h\n"
     ]
    }
   ],
   "source": [
    "# Calculate the difference between two times (result is an Astropy TimeDelta object)\n",
    "time_difference = Time('2023-11-16 00:00:00') - observation_time_utc\n",
    "print(f\"Time difference: {time_difference}\")\n",
    "print(f\"Time difference in hours: {time_difference.to(u.hour)}\")"
   ]
  },
  {
   "cell_type": "code",
   "execution_count": 11,
   "id": "a8926b51-56d7-4252-8723-cb3909f8065d",
   "metadata": {},
   "outputs": [
    {
     "name": "stdout",
     "output_type": "stream",
     "text": [
      "\n",
      "Astropy Time array from MJD:\n",
      "[60264.1 60264.2 60264.3]\n"
     ]
    }
   ],
   "source": [
    "# Astropy Time can handle arrays of times\n",
    "mjd_array = np.array([60264.1, 60264.2, 60264.3]) # Sequence of MJD values\n",
    "time_array_mjd = Time(mjd_array, format='mjd', scale='utc')\n",
    "print(f\"\\nAstropy Time array from MJD:\\n{time_array_mjd}\")"
   ]
  },
  {
   "cell_type": "code",
   "execution_count": 12,
   "id": "736c4ce5-8655-4723-bfdb-d0fe3a025f40",
   "metadata": {},
   "outputs": [
    {
     "name": "stdout",
     "output_type": "stream",
     "text": [
      "Second time in the array (MJD 60264.2): 2023-11-16 04:48:00.000\n"
     ]
    }
   ],
   "source": [
    "# Accessing individual times from an array\n",
    "print(f\"Second time in the array (MJD {time_array_mjd[1].mjd}): {time_array_mjd[1].iso}\")"
   ]
  },
  {
   "cell_type": "markdown",
   "id": "6b8d5b8f-0399-490b-9502-27876efc713b",
   "metadata": {},
   "source": [
    "## The Light Curve\n",
    "\n",
    "The light curve is the fundamental tool for analyzing time series data in astronomy. It is a two-dimensional plot of an object's measured brightness as a function of time. The morphology of a light curve—its shape, amplitude, period, and duration of features—reveals the physical processes driving the observed variability.\n",
    "\n",
    "*   **X-axis (Time):** Represents the time of each observation. For precise analysis, this is often a standard astronomical time coordinate like Barycentric Julian Date (BJD).\n",
    "*   **Y-axis (Brightness):** Represents the measured brightness, typically as **Flux** (a linear measure of energy) or **Magnitude** (a logarithmic, inverted scale).\n",
    "\n",
    "### The Importance of a Standard Time Reference: BJD\n",
    "\n",
    "Astronomical observations are made from Earth, a platform that is both rotating and orbiting the Sun. This motion introduces variations in the light-travel time from a celestial source to the telescope. To remove this effect and accurately compare data from different epochs or observatories, astronomers convert observation times to a common, stable reference frame.\n",
    "\n",
    "The most common reference is the Solar System Barycenter (the system's center of mass). Times corrected to this frame are given as **Barycentric Julian Date (BJD)**. Using BJD ensures that any observed timing variations are intrinsic to the astronomical source, not an artifact of the observer's motion. The `astropy.time` module is the standard tool for performing this conversion."
   ]
  },
  {
   "cell_type": "markdown",
   "id": "97f1cec4-80e7-4562-9d81-ea6d881db646",
   "metadata": {},
   "source": [
    "## OGLE-2019-BLG-1180 \n",
    "\n",
    "Below is the OGLE/KMTNet light curve for a planetary microlensing event OGLE-2019-BLG-1180. You can read more about the event in [arXiv](https://arxiv.org/abs/2312.01278) or the [IOP publication](https://iopscience.iop.org/article/10.3847/1538-3881/ad0723). "
   ]
  },
  {
   "cell_type": "code",
   "execution_count": 21,
   "id": "2c863170-38e3-46b3-a467-1e9ffc675aea",
   "metadata": {},
   "outputs": [
    {
     "data": {
      "text/html": [
       "<div><i>Table length=5</i>\n",
       "<table id=\"table4632390256\" class=\"table-striped table-bordered table-condensed\">\n",
       "<thead><tr><th>Inst</th><th>HJD</th><th>Imag</th><th>e_Imag</th></tr></thead>\n",
       "<thead><tr><th></th><th>d</th><th>mag</th><th>mag</th></tr></thead>\n",
       "<thead><tr><th>bytes6</th><th>float64</th><th>float64</th><th>float64</th></tr></thead>\n",
       "<tr><td>KMTA02</td><td>8534.23049</td><td>19.001</td><td>0.175</td></tr>\n",
       "<tr><td>KMTA02</td><td>8536.25367</td><td>19.351</td><td>0.179</td></tr>\n",
       "<tr><td>KMTA02</td><td>8536.26887</td><td>19.18</td><td>0.164</td></tr>\n",
       "<tr><td>KMTA02</td><td>8539.26076</td><td>18.844</td><td>0.116</td></tr>\n",
       "<tr><td>KMTA02</td><td>8540.25279</td><td>18.862</td><td>0.115</td></tr>\n",
       "</table></div>"
      ],
      "text/plain": [
       "<Table length=5>\n",
       " Inst     HJD       Imag   e_Imag\n",
       "           d        mag     mag  \n",
       "bytes6  float64   float64 float64\n",
       "------ ---------- ------- -------\n",
       "KMTA02 8534.23049  19.001   0.175\n",
       "KMTA02 8536.25367  19.351   0.179\n",
       "KMTA02 8536.26887   19.18   0.164\n",
       "KMTA02 8539.26076  18.844   0.116\n",
       "KMTA02 8540.25279  18.862   0.115"
      ]
     },
     "execution_count": 21,
     "metadata": {},
     "output_type": "execute_result"
    }
   ],
   "source": [
    "from astropy.table import Table\n",
    "\n",
    "ogle = Table.read(\"OGLE-2019-BLG-1180.fits\")\n",
    "\n",
    "ogle[:5]"
   ]
  },
  {
   "cell_type": "code",
   "execution_count": 40,
   "id": "0fe3d14b-2246-471b-a77c-c0574a4840b0",
   "metadata": {},
   "outputs": [
    {
     "data": {
      "image/png": "[encoded data removed]",
      "text/plain": [
       "<Figure size 800x400 with 1 Axes>"
      ]
     },
     "metadata": {},
     "output_type": "display_data"
    }
   ],
   "source": [
    "jd_offset = 2450000\n",
    "times = Time(ogle['HJD'] + jd_offset, format='jd', scale='utc')\n",
    "x_vals = times.jd - jd_offset\n",
    "\n",
    "# 2. Now plot Imag vs time with error bars\n",
    "\n",
    "\n",
    "fig, ax = plt.subplots(figsize=(8,4))\n",
    "\n",
    "ax.errorbar(x_vals, ogle['Imag'], yerr=ogle['e_Imag'], color='maroon', fmt='o', markersize=4, capsize=3)\n",
    "ax.invert_yaxis()  # Magnitudes get brighter going down\n",
    "ax.set(xlabel='heliocentric Julian Date - 2450000 (d)', ylabel='I band (mag)')\n",
    "ax.set_title('Light Curve')\n",
    "# Disable scientific notation on x-axis\n",
    "ax.ticklabel_format(style='plain', axis='x')\n",
    "\n",
    "# Rotate x-axis labels for neatness\n",
    "plt.setp(ax.get_xticklabels(), rotation=45, ha='right')\n",
    "plt.grid(alpha=0.3)\n",
    "plt.tight_layout()\n",
    "plt.show()"
   ]
  },
  {
   "cell_type": "code",
   "execution_count": 36,
   "id": "1ebf12e6-82bd-457c-9922-e0fc757a4515",
   "metadata": {},
   "outputs": [
    {
     "data": {
      "text/plain": [
       "<Time object: scale='utc' format='jd' value=[8534.23049 8536.25367 8536.26887 ... 8921.826   8921.859   8921.893  ]>"
      ]
     },
     "execution_count": 36,
     "metadata": {},
     "output_type": "execute_result"
    }
   ],
   "source": [
    "times"
   ]
  },
  {
   "cell_type": "code",
   "execution_count": 18,
   "id": "e7c0ce33-fa94-45f5-84b5-d2673f3432fe",
   "metadata": {},
   "outputs": [
    {
     "data": {
      "text/html": [
       "<div><i>TimeSeries length=14280</i>\n",
       "<table id=\"table4632387280\" class=\"table-striped table-bordered table-condensed\">\n",
       "<thead><tr><th>time</th><th>timecorr</th><th>cadenceno</th><th>sap_flux</th><th>sap_flux_err</th><th>sap_bkg</th><th>sap_bkg_err</th><th>pdcsap_flux</th><th>pdcsap_flux_err</th><th>sap_quality</th><th>psf_centr1</th><th>psf_centr1_err</th><th>psf_centr2</th><th>psf_centr2_err</th><th>mom_centr1</th><th>mom_centr1_err</th><th>mom_centr2</th><th>mom_centr2_err</th><th>pos_corr1</th><th>pos_corr2</th></tr></thead>\n",
       "<thead><tr><th></th><th>d</th><th></th><th>electron / s</th><th>electron / s</th><th>electron / s</th><th>electron / s</th><th>electron / s</th><th>electron / s</th><th></th><th>pix</th><th>pix</th><th>pix</th><th>pix</th><th>pix</th><th>pix</th><th>pix</th><th>pix</th><th>pix</th><th>pix</th></tr></thead>\n",
       "<thead><tr><th>Time</th><th>float32</th><th>int32</th><th>float32</th><th>float32</th><th>float32</th><th>float32</th><th>float32</th><th>float32</th><th>int32</th><th>float64</th><th>float32</th><th>float64</th><th>float32</th><th>float64</th><th>float32</th><th>float64</th><th>float32</th><th>float32</th><th>float32</th></tr></thead>\n",
       "<tr><td>2009-05-02T00:41:40.338</td><td>6.630610e-04</td><td>5500</td><td>1.0270451e+06</td><td>1.4041933e+02</td><td>3.7480554e+03</td><td>2.2283568e+00</td><td>1.0346376e+06</td><td>2.4780812e+02</td><td>0</td><td>nan</td><td>nan</td><td>nan</td><td>nan</td><td>1041.56040</td><td>1.3623475e-04</td><td>613.47997</td><td>1.7336856e-04</td><td>1.5822421e-03</td><td>-1.4463664e-03</td></tr>\n",
       "<tr><td>2009-05-02T00:42:39.188</td><td>6.630857e-04</td><td>5501</td><td>1.0271844e+06</td><td>1.4042902e+02</td><td>3.7491572e+03</td><td>2.2283657e+00</td><td>1.0347789e+06</td><td>2.4594159e+02</td><td>0</td><td>nan</td><td>nan</td><td>nan</td><td>nan</td><td>1041.55834</td><td>1.3624557e-04</td><td>613.48164</td><td>1.7334183e-04</td><td>1.5743829e-03</td><td>-1.4540013e-03</td></tr>\n",
       "<tr><td>2009-05-02T00:43:38.045</td><td>6.631103e-04</td><td>5502</td><td>1.0270762e+06</td><td>1.4038968e+02</td><td>3.7502588e+03</td><td>2.2283745e+00</td><td>1.0346701e+06</td><td>2.4408449e+02</td><td>0</td><td>nan</td><td>nan</td><td>nan</td><td>nan</td><td>1041.55751</td><td>1.3616899e-04</td><td>613.47866</td><td>1.7328140e-04</td><td>1.5665225e-03</td><td>-1.4616371e-03</td></tr>\n",
       "<tr><td>2009-05-02T00:44:36.894</td><td>6.631350e-04</td><td>5503</td><td>1.0271414e+06</td><td>1.4042482e+02</td><td>3.7513606e+03</td><td>2.2283831e+00</td><td>1.0347365e+06</td><td>2.4229922e+02</td><td>0</td><td>nan</td><td>nan</td><td>nan</td><td>nan</td><td>1041.55898</td><td>1.3622017e-04</td><td>613.47947</td><td>1.7331526e-04</td><td>1.5586632e-03</td><td>-1.4692718e-03</td></tr>\n",
       "<tr><td>2009-05-02T00:45:35.752</td><td>6.631597e-04</td><td>5504</td><td>1.0271569e+06</td><td>1.4039404e+02</td><td>3.7524626e+03</td><td>2.2283916e+00</td><td>1.0347527e+06</td><td>2.4051416e+02</td><td>0</td><td>nan</td><td>nan</td><td>nan</td><td>nan</td><td>1041.55705</td><td>1.3621294e-04</td><td>613.48085</td><td>1.7329821e-04</td><td>1.5508028e-03</td><td>-1.4769078e-03</td></tr>\n",
       "<tr><td>2009-05-02T00:46:34.601</td><td>6.631844e-04</td><td>5505</td><td>1.0272296e+06</td><td>1.4043083e+02</td><td>3.7535642e+03</td><td>2.2284005e+00</td><td>1.0348268e+06</td><td>2.3879796e+02</td><td>0</td><td>nan</td><td>nan</td><td>nan</td><td>nan</td><td>1041.55916</td><td>1.3619773e-04</td><td>613.47844</td><td>1.7329390e-04</td><td>1.5429436e-03</td><td>-1.4845425e-03</td></tr>\n",
       "<tr><td>2009-05-02T00:47:33.451</td><td>6.632091e-04</td><td>5506</td><td>1.0273199e+06</td><td>1.4040657e+02</td><td>3.7546660e+03</td><td>2.2284091e+00</td><td>1.0349186e+06</td><td>2.3708369e+02</td><td>0</td><td>nan</td><td>nan</td><td>nan</td><td>nan</td><td>1041.55680</td><td>1.3621902e-04</td><td>613.47908</td><td>1.7324935e-04</td><td>1.5350844e-03</td><td>-1.4921773e-03</td></tr>\n",
       "<tr><td>2009-05-02T00:48:32.291</td><td>6.632337e-04</td><td>5507</td><td>1.0271497e+06</td><td>1.4042722e+02</td><td>3.7557673e+03</td><td>2.2284179e+00</td><td>1.0347472e+06</td><td>2.3542677e+02</td><td>0</td><td>nan</td><td>nan</td><td>nan</td><td>nan</td><td>1041.55869</td><td>1.3619712e-04</td><td>613.47893</td><td>1.7332737e-04</td><td>1.5272264e-03</td><td>-1.4998110e-03</td></tr>\n",
       "<tr><td>2009-05-02T00:49:31.149</td><td>6.632584e-04</td><td>5508</td><td>1.0271755e+06</td><td>1.4039893e+02</td><td>3.7568694e+03</td><td>2.2284267e+00</td><td>1.0347741e+06</td><td>2.3377666e+02</td><td>0</td><td>nan</td><td>nan</td><td>nan</td><td>nan</td><td>1041.55682</td><td>1.3621723e-04</td><td>613.48127</td><td>1.7328723e-04</td><td>1.5193661e-03</td><td>-1.5074468e-03</td></tr>\n",
       "<tr><td>...</td><td>...</td><td>...</td><td>...</td><td>...</td><td>...</td><td>...</td><td>...</td><td>...</td><td>...</td><td>...</td><td>...</td><td>...</td><td>...</td><td>...</td><td>...</td><td>...</td><td>...</td><td>...</td><td>...</td></tr>\n",
       "<tr><td>2009-05-11T17:59:21.376</td><td>1.014518e-03</td><td>19771</td><td>1.0234574e+06</td><td>1.3981071e+02</td><td>3.4815105e+03</td><td>2.2386670e+00</td><td>1.0312451e+06</td><td>1.7693469e+02</td><td>0</td><td>nan</td><td>nan</td><td>nan</td><td>nan</td><td>1041.56186</td><td>1.3387315e-04</td><td>613.48509</td><td>1.7066579e-04</td><td>3.6102540e-03</td><td>3.1872767e-03</td></tr>\n",
       "<tr><td>2009-05-11T18:00:20.225</td><td>1.014542e-03</td><td>19772</td><td>1.0238128e+06</td><td>1.3979939e+02</td><td>3.4795049e+03</td><td>2.2386744e+00</td><td>1.0316024e+06</td><td>1.7760115e+02</td><td>0</td><td>nan</td><td>nan</td><td>nan</td><td>nan</td><td>1041.56003</td><td>1.3381931e-04</td><td>613.48458</td><td>1.7060475e-04</td><td>3.6083264e-03</td><td>3.1795206e-03</td></tr>\n",
       "<tr><td>2009-05-11T18:01:19.065</td><td>1.014567e-03</td><td>19773</td><td>1.0243234e+06</td><td>1.3986536e+02</td><td>3.4774995e+03</td><td>2.2386820e+00</td><td>1.0321166e+06</td><td>1.7842056e+02</td><td>0</td><td>nan</td><td>nan</td><td>nan</td><td>nan</td><td>1041.56114</td><td>1.3382663e-04</td><td>613.48438</td><td>1.7059974e-04</td><td>3.6063993e-03</td><td>3.1717657e-03</td></tr>\n",
       "<tr><td>2009-05-11T18:02:17.923</td><td>1.014591e-03</td><td>19774</td><td>1.0244257e+06</td><td>1.3987251e+02</td><td>3.4754937e+03</td><td>2.2386894e+00</td><td>1.0322181e+06</td><td>1.7929781e+02</td><td>0</td><td>nan</td><td>nan</td><td>nan</td><td>nan</td><td>1041.55951</td><td>1.3380310e-04</td><td>613.48484</td><td>1.7063033e-04</td><td>3.6044715e-03</td><td>3.1640085e-03</td></tr>\n",
       "<tr><td>2009-05-11T18:03:16.772</td><td>1.014615e-03</td><td>19775</td><td>1.0248654e+06</td><td>1.3990025e+02</td><td>3.4734878e+03</td><td>2.2386968e+00</td><td>1.0326604e+06</td><td>1.8030276e+02</td><td>0</td><td>nan</td><td>nan</td><td>nan</td><td>nan</td><td>1041.56119</td><td>1.3371815e-04</td><td>613.48421</td><td>1.7059981e-04</td><td>3.6025438e-03</td><td>3.1562524e-03</td></tr>\n",
       "<tr><td>2009-05-11T18:04:15.630</td><td>1.014640e-03</td><td>19776</td><td>1.0250156e+06</td><td>1.3991345e+02</td><td>3.4714819e+03</td><td>2.2387044e+00</td><td>1.0328102e+06</td><td>1.8141891e+02</td><td>0</td><td>nan</td><td>nan</td><td>nan</td><td>nan</td><td>1041.56087</td><td>1.3374219e-04</td><td>613.48549</td><td>1.7061993e-04</td><td>3.6006160e-03</td><td>3.1484952e-03</td></tr>\n",
       "<tr><td>2009-05-11T18:05:14.479</td><td>1.014664e-03</td><td>19777</td><td>1.0254516e+06</td><td>1.3994095e+02</td><td>3.4694761e+03</td><td>2.2387121e+00</td><td>1.0332485e+06</td><td>1.8267783e+02</td><td>0</td><td>nan</td><td>nan</td><td>nan</td><td>nan</td><td>1041.56085</td><td>1.3371665e-04</td><td>613.48456</td><td>1.7056632e-04</td><td>3.5986886e-03</td><td>3.1407392e-03</td></tr>\n",
       "<tr><td>2009-05-11T18:06:13.328</td><td>1.014689e-03</td><td>19778</td><td>1.0254685e+06</td><td>1.3994080e+02</td><td>3.4674707e+03</td><td>2.2387197e+00</td><td>1.0332635e+06</td><td>1.8405884e+02</td><td>0</td><td>nan</td><td>nan</td><td>nan</td><td>nan</td><td>1041.56078</td><td>1.3366723e-04</td><td>613.48436</td><td>1.7059664e-04</td><td>3.5967610e-03</td><td>3.1329831e-03</td></tr>\n",
       "<tr><td>2009-05-11T18:07:12.186</td><td>1.014713e-03</td><td>19779</td><td>1.0259309e+06</td><td>1.3996925e+02</td><td>3.4654646e+03</td><td>2.2387271e+00</td><td>1.0337284e+06</td><td>1.8561456e+02</td><td>0</td><td>nan</td><td>nan</td><td>nan</td><td>nan</td><td>1041.56051</td><td>1.3364454e-04</td><td>613.48536</td><td>1.7053897e-04</td><td>3.5948332e-03</td><td>3.1252259e-03</td></tr>\n",
       "</table></div>"
      ],
      "text/plain": [
       "<TimeSeries length=14280>\n",
       "          time             timecorr   ...   pos_corr1      pos_corr2   \n",
       "                              d       ...      pix            pix      \n",
       "          Time             float32    ...    float32        float32    \n",
       "----------------------- ------------- ... -------------- --------------\n",
       "2009-05-02T00:41:40.338  6.630610e-04 ...  1.5822421e-03 -1.4463664e-03\n",
       "2009-05-02T00:42:39.188  6.630857e-04 ...  1.5743829e-03 -1.4540013e-03\n",
       "2009-05-02T00:43:38.045  6.631103e-04 ...  1.5665225e-03 -1.4616371e-03\n",
       "2009-05-02T00:44:36.894  6.631350e-04 ...  1.5586632e-03 -1.4692718e-03\n",
       "2009-05-02T00:45:35.752  6.631597e-04 ...  1.5508028e-03 -1.4769078e-03\n",
       "2009-05-02T00:46:34.601  6.631844e-04 ...  1.5429436e-03 -1.4845425e-03\n",
       "2009-05-02T00:47:33.451  6.632091e-04 ...  1.5350844e-03 -1.4921773e-03\n",
       "2009-05-02T00:48:32.291  6.632337e-04 ...  1.5272264e-03 -1.4998110e-03\n",
       "2009-05-02T00:49:31.149  6.632584e-04 ...  1.5193661e-03 -1.5074468e-03\n",
       "                    ...           ... ...            ...            ...\n",
       "2009-05-11T17:59:21.376  1.014518e-03 ...  3.6102540e-03  3.1872767e-03\n",
       "2009-05-11T18:00:20.225  1.014542e-03 ...  3.6083264e-03  3.1795206e-03\n",
       "2009-05-11T18:01:19.065  1.014567e-03 ...  3.6063993e-03  3.1717657e-03\n",
       "2009-05-11T18:02:17.923  1.014591e-03 ...  3.6044715e-03  3.1640085e-03\n",
       "2009-05-11T18:03:16.772  1.014615e-03 ...  3.6025438e-03  3.1562524e-03\n",
       "2009-05-11T18:04:15.630  1.014640e-03 ...  3.6006160e-03  3.1484952e-03\n",
       "2009-05-11T18:05:14.479  1.014664e-03 ...  3.5986886e-03  3.1407392e-03\n",
       "2009-05-11T18:06:13.328  1.014689e-03 ...  3.5967610e-03  3.1329831e-03\n",
       "2009-05-11T18:07:12.186  1.014713e-03 ...  3.5948332e-03  3.1252259e-03"
      ]
     },
     "execution_count": 18,
     "metadata": {},
     "output_type": "execute_result"
    }
   ],
   "source": [
    "from astropy.utils.data import get_pkg_data_filename\n",
    "from astropy.timeseries import TimeSeries\n",
    "import matplotlib.pyplot as plt\n",
    "\n",
    "example_data = get_pkg_data_filename('timeseries/kplr010666592-2009131110544_slc.fits')\n",
    "kepler = TimeSeries.read(example_data, format='kepler.fits', unit_parse_strict='silent')\n",
    "\n",
    "\n",
    "\n",
    "kepler"
   ]
  },
  {
   "cell_type": "code",
   "execution_count": null,
   "id": "e836cad5-a79e-4e17-a9a7-220c23d8fce6",
   "metadata": {},
   "outputs": [],
   "source": []
  },
  {
   "cell_type": "markdown",
   "id": "932c0eb5-720b-43e0-9d05-600d162db337",
   "metadata": {},
   "source": [
    "## Summary\n",
    "\n",
    "This notebook provided an introduction to working with astronomical time series data in Python, a fundamental skill in Time Domain Astronomy. You learned:\n",
    "\n",
    "*   Time series data captures the variability of celestial objects, including **transients**.\n",
    "*   **Light curves** are plots of brightness (quantified as **flux** or **magnitude**) versus time.\n",
    "*   Accurate time handling is crucial and is best managed using the **Astropy Time** module.\n",
    "*   Astropy `Time` objects can be created from various formats, converted between **time scales**, and used directly for plotting in Matplotlib.\n",
    "*   Variability patterns differ across the electromagnetic spectrum (Optical, IR, UV, X-ray, Radio), reflecting distinct physical processes.\n",
    "\n",
    "Working with time series data is essential for understanding the dynamic universe, from pulsating stars to black hole flares and supernovae. This introduction provides a solid foundation for further exploration into time series analysis techniques.\n",
    "\n",
    "## Additional Resources\n",
    "\n",
    "Time and Dates in Astronomy: <https://docs.astropy.org/en/stable/time/index.html>"
   ]
  },
  {
   "cell_type": "code",
   "execution_count": null,
   "id": "6e86c1f4-5f5f-48ab-88c0-9a435b3718d3",
   "metadata": {},
   "outputs": [],
   "source": []
  }
 ],
 "metadata": {
  "kernelspec": {
   "display_name": "Python 3 (ipykernel)",
   "language": "python",
   "name": "python3"
  },
  "language_info": {
   "codemirror_mode": {
    "name": "ipython",
    "version": 3
   },
   "file_extension": ".py",
   "mimetype": "text/x-python",
   "name": "python",
   "nbconvert_exporter": "python",
   "pygments_lexer": "ipython3",
   "version": "3.10.11"
  }
 },
 "nbformat": 4,
 "nbformat_minor": 5
}
