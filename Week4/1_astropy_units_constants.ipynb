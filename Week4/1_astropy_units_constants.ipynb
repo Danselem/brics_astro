{
 "cells": [
  {
   "cell_type": "markdown",
   "id": "8a88de68-aca8-4de3-b13b-8e991067f21c",
   "metadata": {},
   "source": [
    "<div style=\"font-family: 'Segoe UI', sans-serif; line-height: 1.7; padding: 1.5em; background-color: #f9f9f9; border-left: 6px solid #023e8a;\">\n",
    "  <h2 style=\"color: #023e8a;\">Introduction to the astropy library</h2>\n",
    "\n",
    "  <p>\n",
    "    astropy is a comprehensive, community-developed Python library designed to support <strong>professional-grade astronomical research and education</strong>. It serves as the foundation of the modern astronomical Python ecosystem, offering a coherent suite of tools that address the diverse computational needs of observational and theoretical astronomy.\n",
    "  </p>\n",
    "\n",
    "  <p>\n",
    "    astropy was created in response to the growing need for <strong>standardized, well-maintained, and interoperable software</strong> within the astronomical community. Before astropy, researchers often relied on fragmented tools, legacy code, and ad hoc scripts, which complicated collaboration, reproducibility, and long-term maintenance. Today, astropy has become the <em>de facto</em> standard for Python-based astronomical computing and is widely adopted in both academic and institutional settings.\n",
    "  </p>\n",
    "\n",
    "  <p>\n",
    "    At its core, astropy is built on principles of:\n",
    "    <ul>\n",
    "      <li><strong>Scientific accuracy</strong>: rigorously tested and validated tools for real-world applications</li>\n",
    "      <li><strong>Reproducibility</strong>: enabling transparent workflows through unit tracking, metadata, and open standards</li>\n",
    "      <li><strong>Interoperability</strong>: seamless integration with other scientific libraries (e.g., NumPy, SciPy, Matplotlib)</li>\n",
    "      <li><strong>Modularity</strong>: individual subpackages designed for specific domains within astronomy</li>\n",
    "      <li><strong>Community governance</strong>: an open model maintained by astronomers, for astronomers</li>\n",
    "    </ul>\n",
    "  </p>\n",
    "\n",
    "  <p>\n",
    "    The astropy library includes submodules for:\n",
    "    <ul>\n",
    "      <li>Physical units and quantities (<code>astropy.units</code>)</li> \n",
    "      <li>Physical and astronomical constants (<code>astropy.constants</code>)</li>\n",
    "      <li>Celestial coordinate transformations (<code>astropy.coordinates</code>)</li>\n",
    "      <li>Time and calendar systems (<code>astropy.time</code>)</li>\n",
    "      <li>FITS and tabular data I/O (<code>astropy.io</code>, <code>astropy.table</code>)</li>\n",
    "      <li>World Coordinate System handling (<code>astropy.wcs</code>)</li>\n",
    "      <li>Analytical modeling and fitting (<code>astropy.modeling</code>)</li>\n",
    "      <li>Cosmological calculations (<code>astropy.cosmology</code>)</li>\n",
    "      <li>Image visualization tools (<code>astropy.visualization</code>)</li>\n",
    "    </ul>\n",
    "  </p>\n",
    "\n",
    "  <p style=\"background-color: #e0f0ff; padding: 0.8em; border-radius: 5px;\">\n",
    "    These components are tightly integrated and extensively documented, making astropy not only a powerful research toolkit but also an ideal platform for teaching astronomy and data analysis.\n",
    "  </p>\n",
    "\n",
    "</div>"
   ]
  },
  {
   "cell_type": "markdown",
   "id": "c186cadb-7a58-44ea-ba05-e71756e4033a",
   "metadata": {},
   "source": [
    "## Units, Quantities, and Constants in astropy\n",
    "\n",
    "Astronomical computations typically involve working with physical quantities expressed in various specialized units. Unlike standard SI units commonly used in physics, astronomers frequently employ historical and practical units such as **parsecs (pc)**, **astronomical units (AU)**, **solar masses (M⊙)**, **solar luminosities (L⊙)**, and flux units like **Jansky (Jy)**.\n",
    "\n",
    "astropy provides three closely related components to simplify working with these diverse units and maintain scientific rigor:\n",
    "\n",
    "### 1. Units (`astropy.units`)\n",
    "Units represent physical measurement scales for example, parsecs, kilometers per second, or solar masses. astropy simplifies unit management by allowing easy conversions and ensuring dimensional consistency during calculations.\n",
    "\n",
    "### 2. Quantities\n",
    "A quantity combines a numerical value with its associated unit for instance, `10 pc` or `1.5 M⊙`. astropy’s quantity objects automatically handle unit tracking, ensuring consistency and minimizing calculation errors from manual conversions.\n",
    "\n",
    "### 3. Constants (`astropy.constants`)\n",
    "Constants represent fundamental physical parameters, such as the gravitational constant (`G`), speed of light (`c`), and solar mass (`M_sun`). astropy provides these constants pre-defined with precise numerical values and units, facilitating accurate and reliable astronomical computations.\n",
    "\n",
    "Together, **Units**, **Quantities**, and **Constants** form a coherent framework in astropy, enabling astronomers to perform accurate, clear, and reproducible calculations. By embedding unit handling directly into computations, astropy promotes best practices in scientific programming, enhancing both clarity and reliability in astronomical analyses.\n"
   ]
  },
  {
   "cell_type": "code",
   "execution_count": 2,
   "id": "753f607b-c070-433f-b018-99dc0f2b43fe",
   "metadata": {},
   "outputs": [],
   "source": [
    "from astropy import units as u\n",
    "\n",
    "# Define simple quantities with units\n",
    "distance = 1000 * u.km          # Distance in kilometers\n",
    "velocity = 200 * u.km / u.s   # Velocity in kilometers per second"
   ]
  },
  {
   "cell_type": "markdown",
   "id": "120d59ca-5b08-4667-82e2-3e30ac980c4f",
   "metadata": {},
   "source": [
    "In this cell, we import the `astropy.units` module under the alias `u`, which provides access to a wide range of physical and astronomical units.\n",
    "\n",
    "We then define two basic physical quantities:\n",
    "\n",
    "- `distance = 1000 * u.km`: a distance of 10 kilometers.\n",
    "- `velocity = 200 * u.km / u.s`: a velocity of 220 kilometers per second.\n",
    "\n",
    "Each of these is an `astropy.units.Quantity` object, which stores both the numerical value and the physical unit. These objects can be used in calculations with automatic unit tracking and conversion.\n"
   ]
  },
  {
   "cell_type": "code",
   "execution_count": 10,
   "id": "d0700306-473e-4cb9-842f-25670e636919",
   "metadata": {},
   "outputs": [
    {
     "name": "stdout",
     "output_type": "stream",
     "text": [
      "<class 'astropy.units.quantity.Quantity'>\n",
      "1000.0 km\n",
      "200.0 km / s\n"
     ]
    }
   ],
   "source": [
    "print(type(distance))\n",
    "print(distance)\n",
    "print(velocity)"
   ]
  },
  {
   "cell_type": "code",
   "execution_count": 4,
   "id": "7926d988-7cc6-4681-8e04-00adce619368",
   "metadata": {},
   "outputs": [
    {
     "name": "stdout",
     "output_type": "stream",
     "text": [
      "distance: 1000.00 km\n",
      "km\n",
      "1000.0\n",
      "<class 'numpy.float64'>\n"
     ]
    }
   ],
   "source": [
    "print(f\"distance: {distance:.2f}\")\n",
    "print(distance.unit)\n",
    "print(distance.value)\n",
    "print(type(distance.value))"
   ]
  },
  {
   "cell_type": "markdown",
   "id": "cc4360e3-9324-439f-94f8-ac333e9744dc",
   "metadata": {},
   "source": [
    "In this cell, we printed several aspects of an `astropy.units.Quantity` object to explore its structure and its connection to NumPy:\n",
    "\n",
    "- `print(f\"distance: {distance:.2f}\")`  \n",
    "  Displays the quantity with its value rounded to two decimal places, including the unit (e.g., `10.00 km`).\n",
    "\n",
    "- `print(distance.unit)`  \n",
    "  Prints the unit component of the quantity (here: `km`).\n",
    "\n",
    "- `print(distance.value)`  \n",
    "  Prints just the numerical value, separate from the unit (here: `10.0`).\n",
    "\n",
    "- `print(type(distance.value))`  \n",
    "  Shows the type of the `.value` attribute. For a simple scalar, this is usually a NumPy float type (e.g., `<class 'numpy.float64'>`).\n",
    "\n",
    "**Conclusion:**  \n",
    "An `astropy.units.Quantity` object stores both the value and the unit, and its `.value` attribute is a NumPy type. This tight integration means you can use astropy quantities seamlessly with NumPy functions, combining the convenience of unit handling with the efficiency and flexibility of numerical array operations.\n"
   ]
  },
  {
   "cell_type": "markdown",
   "id": "469f7f80-9af3-463c-9a9c-991d7d4717ab",
   "metadata": {
    "jupyter": {
     "source_hidden": true
    }
   },
   "source": [
    "# astropy Units list https://docs.astropy.org/en/stable/units/ref_api.html#module-astropy.units\n",
    "\n",
    "## Length Units\n",
    "\n",
    "| Unit     | Description        | Code Usage      |\n",
    "|----------|--------------------|-----------------|\n",
    "| `m`      | meter              | `u.m`           |\n",
    "| `cm`     | centimeter         | `u.cm`          |\n",
    "| `mm`     | millimeter         | `u.mm`          |\n",
    "| `µm`     | micrometer         | `u.um`          |\n",
    "| `nm`     | nanometer          | `u.nm`          |\n",
    "| `km`     | kilometer          | `u.km`          |\n",
    "| `au`     | astronomical unit  | `u.au`          |\n",
    "| `pc`     | parsec             | `u.pc`          |\n",
    "| `lyr`    | light-year         | `u.lyr`         |\n",
    "| `R_sun`  | solar radius       | `u.R_sun`       |\n",
    "| `R_earth`| earth radius       | `u.R_earth`     |\n",
    "| `R_jup`  | jupiter radius     | `u.R_jup`       |\n",
    "| `R_moon` | moon radius        | `u.R_moon`      |\n",
    "\n",
    "## Time Units\n",
    "\n",
    "| Unit   | Description    | Code Usage  |\n",
    "|--------|----------------|-------------|\n",
    "| `s`    | second         | `u.s`       |\n",
    "| `ms`   | millisecond    | `u.ms`      |\n",
    "| `µs`   | microsecond    | `u.us`      |\n",
    "| `ns`   | nanosecond     | `u.ns`      |\n",
    "| `min`  | minute         | `u.min`     |\n",
    "| `h`    | hour           | `u.h`       |\n",
    "| `day`  | day            | `u.day`     |\n",
    "| `yr`   | Julian year    | `u.yr`      |\n",
    "| `Gyr`  | gigayear       | `u.Gyr`     |\n",
    "\n",
    "## Mass Units\n",
    "\n",
    "| Unit     | Description      | Code Usage      |\n",
    "|----------|------------------|-----------------|\n",
    "| `kg`     | kilogram         | `u.kg`          |\n",
    "| `g`      | gram             | `u.g`           |\n",
    "| `mg`     | milligram        | `u.mg`          |\n",
    "| `µg`     | microgram        | `u.ug`          |\n",
    "| `u`      | atomic mass unit | `u.u`           |\n",
    "| `M_sun`  | solar mass       | `u.M_sun`       |\n",
    "| `M_earth`| earth mass       | `u.M_earth`     |\n",
    "| `M_jup`  | jupiter mass     | `u.M_jup`       |\n",
    "| `M_moon` | moon mass        | `u.M_moon`      |\n",
    "\n",
    "## Temperature Units\n",
    "\n",
    "| Unit     | Description       | Code Usage     |\n",
    "|----------|-------------------|----------------|\n",
    "| `K`      | kelvin            | `u.K`          |\n",
    "| `deg_C`  | degree Celsius    | `u.deg_C`      |\n",
    "| `deg_F`  | degree Fahrenheit | `u.deg_F`      |\n",
    "\n",
    "## Energy and Power Units\n",
    "\n",
    "| Unit    | Description           | Code Usage     |\n",
    "|---------|-----------------------|----------------|\n",
    "| `J`     | joule                 | `u.J`          |\n",
    "| `erg`   | erg                   | `u.erg`        |\n",
    "| `eV`    | electron volt         | `u.eV`         |\n",
    "| `keV`   | kiloelectron volt     | `u.keV`        |\n",
    "| `MeV`   | megaelectron volt     | `u.MeV`        |\n",
    "| `GeV`   | gigaelectron volt     | `u.GeV`        |\n",
    "| `W`     | watt                  | `u.W`          |\n",
    "| `L_sun` | solar luminosity      | `u.L_sun`      |\n",
    "\n",
    "## Velocity and Acceleration\n",
    "\n",
    "| Unit    | Description               | Code Usage    |\n",
    "|---------|---------------------------|---------------|\n",
    "| `m/s`   | meters per second         | `u.m / u.s`   |\n",
    "| `km/s`  | kilometers per second     | `u.km / u.s`  |\n",
    "| `cm/s`  | centimeters per second    | `u.cm / u.s`  |\n",
    "| `m/s²`  | meters per second squared | `u.m / u.s**2`|\n",
    "\n",
    "## Volume and Area\n",
    "\n",
    "| Unit   | Description               | Code Usage        |\n",
    "|--------|---------------------------|-------------------|\n",
    "| `m²`   | square meter              | `u.m**2`          |\n",
    "| `cm²`  | square centimeter         | `u.cm**2`         |\n",
    "| `km²`  | square kilometer          | `u.km**2`         |\n",
    "| `AU²`  | square astronomical unit  | `u.au**2`         |\n",
    "| `m³`   | cubic meter               | `u.m**3`          |\n",
    "| `cm³`  | cubic centimeter          | `u.cm**3`         |\n",
    "| `L`    | liter                     | `u.L`             |\n",
    "\n",
    "## Frequency Units\n",
    "\n",
    "| Unit   | Description    | Code Usage  |\n",
    "|--------|----------------|-------------|\n",
    "| `Hz`   | hertz          | `u.Hz`      |\n",
    "| `kHz`  | kilohertz      | `u.kHz`     |\n",
    "| `MHz`  | megahertz      | `u.MHz`     |\n",
    "| `GHz`  | gigahertz      | `u.GHz`     |\n",
    "| `THz`  | terahertz      | `u.THz`     |\n",
    "\n",
    "## Electric Units\n",
    "\n",
    "| Unit  | Description | Code Usage |\n",
    "|-------|-------------|------------|\n",
    "| `C`   | coulomb     | `u.C`      |\n",
    "| `V`   | volt        | `u.V`      |\n",
    "| `A`   | ampere      | `u.A`      |\n",
    "| `ohm` | ohm         | `u.ohm`    |\n",
    "| `S`   | siemens     | `u.S`      |\n",
    "| `F`   | farad       | `u.F`      |\n",
    "| `H`   | henry       | `u.H`      |\n",
    "| `T`   | tesla       | `u.T`      |\n",
    "| `Wb`  | weber       | `u.Wb`     |\n",
    "\n",
    "## Radiation and Flux\n",
    "\n",
    "| Unit            | Description               | Code Usage           |\n",
    "|-----------------|---------------------------|----------------------|\n",
    "| `Jy`            | jansky                    | `u.Jy`               |\n",
    "| `photon`        | photon (dimensionless)    | `u.photon`           |\n",
    "| `W/(m² Hz sr)`  | spectral radiance (SI)    | `u.W / (u.m**2 * u.Hz * u.sr)` |\n",
    "| `erg/(s cm²)`   | flux in CGS               | `u.erg / (u.s * u.cm**2)`      |\n",
    "\n",
    "## Angles and Solid Angles\n",
    "\n",
    "| Unit    | Description | Code Usage  |\n",
    "|---------|-------------|-------------|\n",
    "| `deg`   | degree      | `u.deg`     |\n",
    "| `rad`   | radian      | `u.rad`     |\n",
    "| `arcmin`| arcminute   | `u.arcmin`  |\n",
    "| `arcsec`| arcsecond   | `u.arcsec`  |\n",
    "| `sr`    | steradian   | `u.sr`      |\n",
    "\n",
    "## Miscellaneous and Dimensionless\n",
    "\n",
    "| Unit                   | Description            | Code Usage              |\n",
    "|------------------------|------------------------|--------------------------|\n",
    "| `dimensionless_unscaled` | pure number          | `u.dimensionless_unscaled` |\n",
    "| `dex`                  | logarithmic unit       | `u.dex`                 |\n",
    "| `%`                    | percent                | `u.percent`             |\n",
    "| `ppm`                  | parts per million      | `u.ppm`                 |\n",
    "| `count`                | dimensionless count    | `u.count`               |\n"
   ]
  },
  {
   "cell_type": "code",
   "execution_count": 26,
   "id": "b12500d9-4e4d-49a1-a176-3e858b8537ee",
   "metadata": {},
   "outputs": [
    {
     "name": "stdout",
     "output_type": "stream",
     "text": [
      "<class 'astropy.units.quantity.Quantity'>\n",
      "distance [pc]: 5.00 pc\n"
     ]
    }
   ],
   "source": [
    "distance_pc = u.Quantity(5, u.pc) #Just another way to define Quantity(\"Unit + Value\")\n",
    "print(type(distance_pc))          # Yes! Again Quantity class!\n",
    "print(f\"distance [pc]: {distance_pc:.2f}\")"
   ]
  },
  {
   "cell_type": "code",
   "execution_count": 22,
   "id": "d8dd8690-717d-494f-bab8-51926b0aa473",
   "metadata": {},
   "outputs": [
    {
     "name": "stdout",
     "output_type": "stream",
     "text": [
      "Speed of light [?]: 1.00 lyr / yr\n",
      "Speed of light [km/s]: 299792.46 km / s\n"
     ]
    }
   ],
   "source": [
    "speed_of_light = u.Quantity(1, u.lyr/u.year)\n",
    "print(f\"Speed of light [?]: {speed_of_light:.2f}\")  \n",
    "print(f\"Speed of light [km/s]: {speed_of_light.to(u.km/u.s):.2f}\")    #Magic! "
   ]
  },
  {
   "cell_type": "markdown",
   "id": "16cb02e2-85ad-4a84-80d2-2d68ecb0f5a0",
   "metadata": {},
   "source": [
    "### Converting to Different Units\n",
    "\n",
    "One of the most important features of `astropy.units.Quantity` objects is the ability to convert between compatible units using the `.to()` method.\n",
    "\n",
    "A `Quantity` object represents a numerical value associated with a physical unit. If you need to express that value in another unit of the same physical dimension (for example, meters to kilometers, seconds to hours, or joules to electron-volts), the `.to()` method provides a simple and robust way to perform the conversion.\n",
    "\n",
    "#### Basic Syntax:\n",
    "```python\n",
    "converted_quantity = original_quantity.to(new_unit)\n",
    "```\n",
    "\n",
    "#### Notes:\n",
    "- The target unit (`new_unit`) must be **dimensionally compatible** with the original unit.\n",
    "- If the target unit is not compatible (e.g., converting time to length), `astropy` will raise a `UnitsError`.\n",
    "\n",
    "#### Example:\n",
    "Suppose you define a distance of `1.5 * u.parsec`. You can convert it to light-years using:\n",
    "\n",
    "```python\n",
    "(1.5 * u.pc).to(u.lyr)\n",
    "```\n",
    "\n",
    "This returns a new `Quantity` object representing the same physical value expressed in light-years.\n",
    "\n",
    "The `.to()` method ensures that your code remains physically meaningful and unit-consistent throughout your calculations.\n"
   ]
  },
  {
   "cell_type": "code",
   "execution_count": 49,
   "id": "752a9b86-6ef1-4a0c-91c7-79f3641c6105",
   "metadata": {},
   "outputs": [
    {
     "name": "stdout",
     "output_type": "stream",
     "text": [
      "distance [pc]: 5.00 pc\n",
      "distance [mpc]: 5000.00 mpc\n",
      "distance [lyr]: 16.31 lyr\n",
      "distance [AU]: 1031324.03 AU\n",
      "distance [R_sun]: 221767829.63 solRad\n",
      "distance [km]: 154283879074568.38 km\n",
      "distance [mm]: 154283879074568339456.00 mm\n",
      "distance [pm]: 154283879074568357719543119872.00 pm\n"
     ]
    }
   ],
   "source": [
    "print(f\"distance [pc]: {distance_pc:.2f}\")\n",
    "print(f\"distance [mpc]: {distance_pc.to(u.mpc):.2f}\") #It's not in our list but pc with \"mega\" or \"kilo\" others\n",
    "print(f\"distance [lyr]: {distance_pc.to(u.lyr):.2f}\")\n",
    "print(f\"distance [AU]: {distance_pc.to(u.au):.2f}\")\n",
    "print(f\"distance [R_sun]: {distance_pc.to(u.R_sun):.2f}\")\n",
    "print(f\"distance [km]: {distance_pc.to(u.km):.2f}\") \n",
    "print(f\"distance [mm]: {distance_pc.to(u.mm):.2f}\") #How about nm ? Okay...\n",
    "print(f\"distance [pm]: {distance_pc.to(u.pm):.2f}\") #YES! even picometer (pm) - metric unit of length equal to one trillionth of a meter! Let's stop here "
   ]
  },
  {
   "cell_type": "markdown",
   "id": "1a92b717-804e-49e2-97b9-34ab3c6ad5e5",
   "metadata": {},
   "source": [
    "# Prefixes list https://docs.astropy.org/en/stable/units/ref_api.html#module-astropy.units"
   ]
  },
  {
   "cell_type": "code",
   "execution_count": 64,
   "id": "4dd26f13-232a-4bd8-a3c2-68ba26ad6748",
   "metadata": {
    "collapsed": true,
    "jupyter": {
     "outputs_hidden": true
    },
    "scrolled": true
   },
   "outputs": [
    {
     "ename": "UnitConversionError",
     "evalue": "'pc' (length) and 's' (time) are not convertible",
     "output_type": "error",
     "traceback": [
      "\u001b[31m---------------------------------------------------------------------------\u001b[39m",
      "\u001b[31mUnitConversionError\u001b[39m                       Traceback (most recent call last)",
      "\u001b[36mCell\u001b[39m\u001b[36m \u001b[39m\u001b[32mIn[64]\u001b[39m\u001b[32m, line 1\u001b[39m\n\u001b[32m----> \u001b[39m\u001b[32m1\u001b[39m \u001b[43mdistance_pc\u001b[49m\u001b[43m.\u001b[49m\u001b[43mto\u001b[49m\u001b[43m(\u001b[49m\u001b[43mu\u001b[49m\u001b[43m.\u001b[49m\u001b[43ms\u001b[49m\u001b[43m)\u001b[49m\n",
      "\u001b[36mFile \u001b[39m\u001b[32m~/miniconda3/lib/python3.13/site-packages/astropy/units/quantity.py:930\u001b[39m, in \u001b[36mQuantity.to\u001b[39m\u001b[34m(self, unit, equivalencies, copy)\u001b[39m\n\u001b[32m    926\u001b[39m unit = Unit(unit)\n\u001b[32m    927\u001b[39m \u001b[38;5;28;01mif\u001b[39;00m copy:\n\u001b[32m    928\u001b[39m     \u001b[38;5;66;03m# Avoid using to_value to ensure that we make a copy. We also\u001b[39;00m\n\u001b[32m    929\u001b[39m     \u001b[38;5;66;03m# don't want to slow down this method (esp. the scalar case).\u001b[39;00m\n\u001b[32m--> \u001b[39m\u001b[32m930\u001b[39m     value = \u001b[38;5;28;43mself\u001b[39;49m\u001b[43m.\u001b[49m\u001b[43m_to_value\u001b[49m\u001b[43m(\u001b[49m\u001b[43munit\u001b[49m\u001b[43m,\u001b[49m\u001b[43m \u001b[49m\u001b[43mequivalencies\u001b[49m\u001b[43m)\u001b[49m\n\u001b[32m    931\u001b[39m \u001b[38;5;28;01melse\u001b[39;00m:\n\u001b[32m    932\u001b[39m     \u001b[38;5;66;03m# to_value only copies if necessary\u001b[39;00m\n\u001b[32m    933\u001b[39m     value = \u001b[38;5;28mself\u001b[39m.to_value(unit, equivalencies)\n",
      "\u001b[36mFile \u001b[39m\u001b[32m~/miniconda3/lib/python3.13/site-packages/astropy/units/quantity.py:883\u001b[39m, in \u001b[36mQuantity._to_value\u001b[39m\u001b[34m(self, unit, equivalencies)\u001b[39m\n\u001b[32m    880\u001b[39m     equivalencies = \u001b[38;5;28mself\u001b[39m._equivalencies\n\u001b[32m    881\u001b[39m \u001b[38;5;28;01mif\u001b[39;00m \u001b[38;5;129;01mnot\u001b[39;00m \u001b[38;5;28mself\u001b[39m.dtype.names \u001b[38;5;129;01mor\u001b[39;00m \u001b[38;5;28misinstance\u001b[39m(\u001b[38;5;28mself\u001b[39m.unit, StructuredUnit):\n\u001b[32m    882\u001b[39m     \u001b[38;5;66;03m# Standard path, let unit to do work.\u001b[39;00m\n\u001b[32m--> \u001b[39m\u001b[32m883\u001b[39m     \u001b[38;5;28;01mreturn\u001b[39;00m \u001b[38;5;28;43mself\u001b[39;49m\u001b[43m.\u001b[49m\u001b[43munit\u001b[49m\u001b[43m.\u001b[49m\u001b[43mto\u001b[49m\u001b[43m(\u001b[49m\n\u001b[32m    884\u001b[39m \u001b[43m        \u001b[49m\u001b[43munit\u001b[49m\u001b[43m,\u001b[49m\u001b[43m \u001b[49m\u001b[38;5;28;43mself\u001b[39;49m\u001b[43m.\u001b[49m\u001b[43mview\u001b[49m\u001b[43m(\u001b[49m\u001b[43mnp\u001b[49m\u001b[43m.\u001b[49m\u001b[43mndarray\u001b[49m\u001b[43m)\u001b[49m\u001b[43m,\u001b[49m\u001b[43m \u001b[49m\u001b[43mequivalencies\u001b[49m\u001b[43m=\u001b[49m\u001b[43mequivalencies\u001b[49m\n\u001b[32m    885\u001b[39m \u001b[43m    \u001b[49m\u001b[43m)\u001b[49m\n\u001b[32m    887\u001b[39m \u001b[38;5;28;01melse\u001b[39;00m:\n\u001b[32m    888\u001b[39m     \u001b[38;5;66;03m# The .to() method of a simple unit cannot convert a structured\u001b[39;00m\n\u001b[32m    889\u001b[39m     \u001b[38;5;66;03m# dtype, so we work around it, by recursing.\u001b[39;00m\n\u001b[32m    890\u001b[39m     \u001b[38;5;66;03m# TODO: deprecate this?\u001b[39;00m\n\u001b[32m    891\u001b[39m     \u001b[38;5;66;03m# Convert simple to Structured on initialization?\u001b[39;00m\n\u001b[32m    892\u001b[39m     result = np.empty_like(\u001b[38;5;28mself\u001b[39m.view(np.ndarray))\n",
      "\u001b[36mFile \u001b[39m\u001b[32m~/miniconda3/lib/python3.13/site-packages/astropy/units/core.py:1204\u001b[39m, in \u001b[36mUnitBase.to\u001b[39m\u001b[34m(self, other, value, equivalencies)\u001b[39m\n\u001b[32m   1202\u001b[39m     \u001b[38;5;28;01mreturn\u001b[39;00m UNITY\n\u001b[32m   1203\u001b[39m \u001b[38;5;28;01melse\u001b[39;00m:\n\u001b[32m-> \u001b[39m\u001b[32m1204\u001b[39m     \u001b[38;5;28;01mreturn\u001b[39;00m \u001b[38;5;28;43mself\u001b[39;49m\u001b[43m.\u001b[49m\u001b[43mget_converter\u001b[49m\u001b[43m(\u001b[49m\u001b[43mUnit\u001b[49m\u001b[43m(\u001b[49m\u001b[43mother\u001b[49m\u001b[43m)\u001b[49m\u001b[43m,\u001b[49m\u001b[43m \u001b[49m\u001b[43mequivalencies\u001b[49m\u001b[43m)\u001b[49m(value)\n",
      "\u001b[36mFile \u001b[39m\u001b[32m~/miniconda3/lib/python3.13/site-packages/astropy/units/core.py:1133\u001b[39m, in \u001b[36mUnitBase.get_converter\u001b[39m\u001b[34m(self, other, equivalencies)\u001b[39m\n\u001b[32m   1130\u001b[39m             \u001b[38;5;28;01melse\u001b[39;00m:\n\u001b[32m   1131\u001b[39m                 \u001b[38;5;28;01mreturn\u001b[39;00m \u001b[38;5;28;01mlambda\u001b[39;00m v: b(converter(v))\n\u001b[32m-> \u001b[39m\u001b[32m1133\u001b[39m \u001b[38;5;28;01mraise\u001b[39;00m exc\n",
      "\u001b[36mFile \u001b[39m\u001b[32m~/miniconda3/lib/python3.13/site-packages/astropy/units/core.py:1116\u001b[39m, in \u001b[36mUnitBase.get_converter\u001b[39m\u001b[34m(self, other, equivalencies)\u001b[39m\n\u001b[32m   1114\u001b[39m \u001b[38;5;66;03m# if that doesn't work, maybe we can do it with equivalencies?\u001b[39;00m\n\u001b[32m   1115\u001b[39m \u001b[38;5;28;01mtry\u001b[39;00m:\n\u001b[32m-> \u001b[39m\u001b[32m1116\u001b[39m     \u001b[38;5;28;01mreturn\u001b[39;00m \u001b[38;5;28;43mself\u001b[39;49m\u001b[43m.\u001b[49m\u001b[43m_apply_equivalencies\u001b[49m\u001b[43m(\u001b[49m\n\u001b[32m   1117\u001b[39m \u001b[43m        \u001b[49m\u001b[38;5;28;43mself\u001b[39;49m\u001b[43m,\u001b[49m\u001b[43m \u001b[49m\u001b[43mother\u001b[49m\u001b[43m,\u001b[49m\u001b[43m \u001b[49m\u001b[38;5;28;43mself\u001b[39;49m\u001b[43m.\u001b[49m\u001b[43m_normalize_equivalencies\u001b[49m\u001b[43m(\u001b[49m\u001b[43mequivalencies\u001b[49m\u001b[43m)\u001b[49m\n\u001b[32m   1118\u001b[39m \u001b[43m    \u001b[49m\u001b[43m)\u001b[49m\n\u001b[32m   1119\u001b[39m \u001b[38;5;28;01mexcept\u001b[39;00m UnitsError \u001b[38;5;28;01mas\u001b[39;00m exc:\n\u001b[32m   1120\u001b[39m     \u001b[38;5;66;03m# Last hope: maybe other knows how to do it?\u001b[39;00m\n\u001b[32m   1121\u001b[39m     \u001b[38;5;66;03m# We assume the equivalencies have the unit itself as first item.\u001b[39;00m\n\u001b[32m   1122\u001b[39m     \u001b[38;5;66;03m# TODO: maybe better for other to have a `_back_converter` method?\u001b[39;00m\n\u001b[32m   1123\u001b[39m     \u001b[38;5;28;01mif\u001b[39;00m \u001b[38;5;28mhasattr\u001b[39m(other, \u001b[33m\"\u001b[39m\u001b[33mequivalencies\u001b[39m\u001b[33m\"\u001b[39m):\n",
      "\u001b[36mFile \u001b[39m\u001b[32m~/miniconda3/lib/python3.13/site-packages/astropy/units/core.py:1067\u001b[39m, in \u001b[36mUnitBase._apply_equivalencies\u001b[39m\u001b[34m(self, unit, other, equivalencies)\u001b[39m\n\u001b[32m   1064\u001b[39m unit_str = get_err_str(unit)\n\u001b[32m   1065\u001b[39m other_str = get_err_str(other)\n\u001b[32m-> \u001b[39m\u001b[32m1067\u001b[39m \u001b[38;5;28;01mraise\u001b[39;00m UnitConversionError(\u001b[33mf\u001b[39m\u001b[33m\"\u001b[39m\u001b[38;5;132;01m{\u001b[39;00munit_str\u001b[38;5;132;01m}\u001b[39;00m\u001b[33m and \u001b[39m\u001b[38;5;132;01m{\u001b[39;00mother_str\u001b[38;5;132;01m}\u001b[39;00m\u001b[33m are not convertible\u001b[39m\u001b[33m\"\u001b[39m)\n",
      "\u001b[31mUnitConversionError\u001b[39m: 'pc' (length) and 's' (time) are not convertible"
     ]
    }
   ],
   "source": [
    "distance_pc.to(u.s) #UnitsError"
   ]
  },
  {
   "cell_type": "code",
   "execution_count": 47,
   "id": "a0d567ab-76d6-4e7f-a95d-5f7682b1568a",
   "metadata": {},
   "outputs": [
    {
     "name": "stdout",
     "output_type": "stream",
     "text": [
      "Speed of light [SI]: 299792458.00 m / s\n",
      "Speed of light [CGS]: 29979245800.00 cm / s\n",
      "Speed of light [custom value mm/ns]: 299.79\n"
     ]
    }
   ],
   "source": [
    "print(f\"Speed of light [SI]: {speed_of_light.si:.2f}\") #If you want some standarts\n",
    "print(f\"Speed of light [CGS]: {speed_of_light.cgs:.2f}\")\n",
    "print(f\"Speed of light [custom value mm/ns]: {speed_of_light.to_value(u.mm/u.ns):.2f}\") #Maybe you need just value in yor favorite units"
   ]
  },
  {
   "cell_type": "markdown",
   "id": "8a2f8919-99b9-4abe-9401-0a99e65bb0b1",
   "metadata": {},
   "source": [
    "## Constants\n",
    "\n",
    "Now that we know how to define physical quantities with explicit units using `astropy.units`, the next logical step in writing physically meaningful code is to incorporate commonly used constants—such as the gravitational constant, the speed of light, or the mass of the Sun—directly into our calculations.\n",
    "\n",
    "astropy simplifies this process through the dedicated subpackage [`astropy.constants`](https://docs.astropy.org/en/stable/constants/), which provides a rich collection of physical and astronomical constants, all implemented as fully unit-aware objects.\n",
    "\n",
    "The constants in this module are not just hard-coded numbers; they are instances of `astropy.constants.Constant`, which means each one includes:\n",
    "- a precise numerical value (as defined by CODATA or the IAU),\n",
    "- a unit (compatible with the `astropy.units` system),\n",
    "- a description, and\n",
    "- support for seamless integration with other astropy subpackages.\n",
    "\n",
    "This design ensures dimensional consistency and scientific correctness when constants are used in expressions, conversions, or calculations.\n",
    "\n",
    "### Why Use `astropy.constants`?\n",
    "\n",
    "Using the `astropy.constants` module offers several clear advantages:\n",
    "- Accurate: All constants are based on the most recent and reliable scientific data.\n",
    "- Built-in Units: Each constant is unit-aware and works seamlessly with quantities, unit conversions, and equations.\n",
    "- Convenient: Constants are available by name—no need to memorize values or perform manual conversions.\n",
    "- Consistent: Shared use of constants across notebooks, projects, and collaborators avoids mismatched assumptions.\n",
    "- Readable: Code becomes more expressive and self-documenting when constants are used by name.\n",
    "\n",
    "### What Types of Constants Are Included?\n",
    "\n",
    "The module includes constants in several broad categories:\n",
    "\n",
    "- **Physical constants**: Gravitational constant, Planck constant, speed of light, Boltzmann constant, elementary charge, and more.\n",
    "- **Astronomical constants**: Solar mass, radius, and luminosity; parameters for Earth, Jupiter, and the Moon; astronomical unit; parsec; light-year, etc.\n",
    "- **Radiative and atomic constants**: Wien’s displacement constant, Rydberg constant, Thomson cross-section, Stefan–Boltzmann constant, and others.\n",
    "\n",
    "These constants are essential for research and computations in astrophysics, cosmology, planetary science, and observational astronomy.\n",
    "\n",
    "---\n",
    "\n",
    "In the next cell, you will find a complete table listing the most important constants available in `astropy.constants`, along with their values and units.\n"
   ]
  },
  {
   "cell_type": "markdown",
   "id": "4b0fb9dc-baeb-4df1-9c35-7914a744c92b",
   "metadata": {
    "jupyter": {
     "source_hidden": true
    }
   },
   "source": [
    "# astropy Constants (SI Units)\n",
    "\n",
    "## Physical Constants\n",
    "\n",
    "| Name     | Description                          | Value (SI)                    | Unit             |\n",
    "|----------|--------------------------------------|-------------------------------|------------------|\n",
    "| `G`      | Gravitational constant               | 6.67430e-11                   | m³ / (kg s²)     |\n",
    "| `c`      | Speed of light in vacuum             | 2.99792458e8                  | m / s            |\n",
    "| `h`      | Planck constant                      | 6.62607015e-34                | J s              |\n",
    "| `ħ`      | Reduced Planck constant              | 1.054571817e-34               | J s              |\n",
    "| `k_B`    | Boltzmann constant                   | 1.380649e-23                  | J / K            |\n",
    "| `sigma_sb`| Stefan–Boltzmann constant           | 5.670374419e-8                | W / (m² K⁴)      |\n",
    "| `a`      | Radiation density constant           | 7.5657e-16                    | J / (m³ K⁴)      |\n",
    "| `R`      | Ideal gas constant                   | 8.314462618                   | J / (mol K)      |\n",
    "| `N_A`    | Avogadro constant                    | 6.02214076e23                 | 1 / mol          |\n",
    "| `e`      | Elementary charge                    | 1.602176634e-19               | C                |\n",
    "| `m_e`    | Electron mass                        | 9.1093837015e-31              | kg               |\n",
    "| `m_p`    | Proton mass                          | 1.67262192369e-27             | kg               |\n",
    "| `m_n`    | Neutron mass                         | 1.67492749804e-27             | kg               |\n",
    "| `mu_B`   | Bohr magneton                        | 9.2740100783e-24              | J / T            |\n",
    "| `mu_N`   | Nuclear magneton                     | 5.0507837461e-27              | J / T            |\n",
    "| `alpha`  | Fine-structure constant              | 7.2973525693e-3               | dimensionless    |\n",
    "| `sigma_T`| Thomson scattering cross-section     | 6.6524587321e-29              | m²               |\n",
    "| `eps0`   | Electric constant (vacuum permittivity) | 8.8541878128e-12           | F / m            |\n",
    "| `mu0`    | Magnetic constant (vacuum permeability) | 1.25663706212e-6          | N / A²           |\n",
    "| `atm`    | Standard atmosphere                  | 101325                        | Pa               |\n",
    "| `g0`     | Standard gravity                     | 9.80665                       | m / s²           |\n",
    "| `u`      | Atomic mass unit                     | 1.66053906660e-27             | kg               |\n",
    "| `Ryd`    | Rydberg constant                     | 10973731.568160               | 1 / m            |\n",
    "| `a0`     | Bohr radius                          | 5.29177210903e-11             | m                |\n",
    "| `b_wien` | Wien wavelength displacement const.  | 2.897771955e-3                | m K              |\n",
    "\n",
    "## Astronomical Constants\n",
    "\n",
    "| Name       | Description                       | Value                         | Unit             |\n",
    "|------------|-----------------------------------|-------------------------------|------------------|\n",
    "| `M_sun`    | Solar mass                        | 1.98847e30                    | kg               |\n",
    "| `R_sun`    | Solar radius                      | 6.957e8                       | m                |\n",
    "| `L_sun`    | Solar luminosity                  | 3.828e26                      | W                |\n",
    "| `M_earth`  | Earth mass                        | 5.9722e24                     | kg               |\n",
    "| `R_earth`  | Earth radius (equatorial)         | 6.3781e6                      | m                |\n",
    "| `R_jup`    | Jupiter radius                    | 7.1492e7                      | m                |\n",
    "| `au`       | Astronomical unit                 | 1.495978707e11                | m                |\n",
    "| `pc`       | Parsec                            | 3.085677581e16                | m                |\n",
    "| `lyr`      | Light-year                        | 9.460730472e15                | m                |\n",
    "| `kpc`      | Kiloparsec                        | 3.08567758e19                 | m                |\n",
    "| `GM_earth` | Earth's gravitational parameter   | 3.986004e14                   | m³ / s²          |\n",
    "| `GM_jup`   | Jupiter's gravitational parameter | 1.2668653e17                  | m³ / s²          |\n",
    "| `GM_sun`   | Sun's gravitational parameter     | 1.3271244e20                  | m³ / s²          |\n",
    "| `L_bol0`   | Luminosity at absolute bol. mag. 0| 3.0128e28                     | W                |\n"
   ]
  },
  {
   "cell_type": "code",
   "execution_count": 61,
   "id": "a63f07b3-3a6a-4c93-a5eb-3387e5a5c9f0",
   "metadata": {},
   "outputs": [
    {
     "name": "stdout",
     "output_type": "stream",
     "text": [
      "  Name   = Speed of light in vacuum\n",
      "  Value  = 299792458.0\n",
      "  Uncertainty  = 0.0\n",
      "  Unit  = m / s\n",
      "  Reference = CODATA 2018\n"
     ]
    }
   ],
   "source": [
    "from astropy.constants import c #First way to import\n",
    "print(c)"
   ]
  },
  {
   "cell_type": "code",
   "execution_count": 63,
   "id": "d06d7e7a-ba5c-419c-9e5f-3b738d888791",
   "metadata": {},
   "outputs": [
    {
     "name": "stdout",
     "output_type": "stream",
     "text": [
      "  Name   = Boltzmann constant\n",
      "  Value  = 1.380649e-23\n",
      "  Uncertainty  = 0.0\n",
      "  Unit  = J / K\n",
      "  Reference = CODATA 2018\n"
     ]
    }
   ],
   "source": [
    "from astropy import constants as const #Second way to import\n",
    "print(const.k_B) "
   ]
  },
  {
   "cell_type": "code",
   "execution_count": 76,
   "id": "fbdc8370-0ff2-42a2-892b-22732ff1bf00",
   "metadata": {},
   "outputs": [
    {
     "name": "stdout",
     "output_type": "stream",
     "text": [
      "0.30660139378555057 pc / yr\n",
      "29979245800.0 cm / s\n"
     ]
    },
    {
     "data": {
      "text/latex": [
       "$\\displaystyle 2.9979246 \\times 10^{8} \\; \\mathrm{\\frac{m}{s}}$"
      ],
      "text/plain": [
       "<IPython.core.display.Math object>"
      ]
     },
     "metadata": {},
     "output_type": "display_data"
    }
   ],
   "source": [
    "print(c.to(u.pc/u.year)) #We can convert constants as other Quantities\n",
    "print(const.c.cgs)\n",
    "\n",
    "from IPython.display import Math, display\n",
    "display(Math(f\"{c:latex}\")) #Some IPython and jupyter magic!"
   ]
  },
  {
   "cell_type": "markdown",
   "id": "5168cb30-395f-49e5-9752-456df7528fd4",
   "metadata": {},
   "source": [
    "## Example: Luminosity of a star-like object using the Stefan–Boltzmann law\n",
    "\n",
    "This example demonstrates how `astropy.units` and `astropy.constants` work seamlessly together in realistic astrophysical computations.\n",
    "\n",
    "We calculate the **total luminosity** $L$ of a hot, Jupiter-sized exoplanet using the **Stefan–Boltzmann law**:\n",
    "\n",
    "$$\n",
    "L = 4\\pi R^2 \\sigma T^4\n",
    "$$\n",
    "\n",
    "Here we define the planet’s:\n",
    "- **radius** as 1.6 times the radius of Jupiter, and\n",
    "- **effective temperature** as 1800 K.\n",
    "\n",
    "We then use the built-in **Stefan–Boltzmann constant** from `astropy.constants` and compute the result with full unit support.\n",
    "\n",
    "This example highlights:\n",
    "- How to use physical constants and quantities with units in actual formulas,\n",
    "- How units propagate through calculations automatically,\n",
    "- And how to **compare the result** to another unit-aware constant, such as the Sun’s luminosity `L_sun`.\n",
    "\n",
    "The final result is given in **watts** and as a **fraction of the solar luminosity**.\n"
   ]
  },
  {
   "cell_type": "code",
   "execution_count": 93,
   "id": "c833afbf-56f2-45af-91bf-2bb27db44b46",
   "metadata": {},
   "outputs": [
    {
     "name": "stdout",
     "output_type": "stream",
     "text": [
      "Luminosity: 9.787e+22 W\n",
      "As a fraction of solar luminosity: 0.0003\n"
     ]
    }
   ],
   "source": [
    "from astropy.constants import sigma_sb, L_sun, R_jup\n",
    "import numpy as np\n",
    "\n",
    "radius = 1.6 * R_jup     # Define exoplanet radius\n",
    "temperature = 1800 * u.K # Define effective temperature\n",
    "\n",
    "luminosity = 4 * np.pi * radius**2 * sigma_sb * temperature**4 # Compute luminosity\n",
    "\n",
    "print(f\"Luminosity: {luminosity:.3e}\")\n",
    "print(f\"As a fraction of solar luminosity: {(luminosity / L_sun).decompose():.4f}\")"
   ]
  },
  {
   "cell_type": "markdown",
   "id": "e8dc6cce-66d5-4d58-870e-58062c410fca",
   "metadata": {},
   "source": [
    "### Wait! What does `.decompose()` do?\n",
    "\n",
    "In the final line of the calculation, we compare the luminosity of our object to the luminosity of the Sun:\n",
    "\n",
    "```python\n",
    "(luminosity / L_sun).decompose()\n",
    "```\n",
    "\n",
    "This operation divides the computed luminosity (in watts) by the solar luminosity constant `L_sun`. The result is a **dimensionless `Quantity`**, because both values have the same physical unit.\n",
    "\n",
    "However, the resulting object still retains unit information internally. Calling `.decompose()` simplifies the unit expression and **returns a pure number**, explicitly removing unit tags and expressing the result in terms of base SI units (or a dimensionless value, in this case).\n",
    "\n",
    "This is especially useful when:\n",
    "- You want a scalar value for plotting or formatting,\n",
    "- You’re comparing dimensionless ratios,\n",
    "- You want to confirm that the units cancel properly.\n",
    "\n",
    "The output tells us **how many times more (or less)** luminous our object is compared to the Sun.\n"
   ]
  },
  {
   "cell_type": "code",
   "execution_count": 86,
   "id": "90cc8350-445a-4bc0-8073-95a620519b1e",
   "metadata": {},
   "outputs": [
    {
     "name": "stdout",
     "output_type": "stream",
     "text": [
      "9.8 m / s2\n"
     ]
    }
   ],
   "source": [
    "g = 980 * u.cm / u.s**2\n",
    "g_decomposed = g.decompose()\n",
    "print(g_decomposed)  # meters instead of cm"
   ]
  },
  {
   "cell_type": "markdown",
   "id": "dcafbd03-f917-4644-947f-88eabf26e6db",
   "metadata": {},
   "source": [
    "### Be careful when using `.decompose()` on Quantities with Units!\n",
    "\n",
    "The `.decompose()` method in `astropy.units` simplifies a quantity by expressing its unit in terms of **base SI units** (or any system you specify). It does **not** remove units, but rewrites them in their most fundamental form.\n",
    "\n",
    "This is different from `.to()` which converts to a specified target unit — `.decompose()` converts to **base units** automatically.\n",
    "\n",
    "#### Example\n",
    "\n",
    "Suppose we define a quantity with compound units, such as surface gravity\n",
    "\n",
    "Here’s what happened:\n",
    "- `980 cm / s²` is a valid unit,\n",
    "- `.decompose()` rewrote it as `9.8 m / s²`, since meters are the SI base unit for length.\n",
    "\n",
    "This is useful when:\n",
    "- You want to check the **fundamental dimensional form** of a unit expression,\n",
    "- You’re debugging complex formulas and want to ensure consistency,\n",
    "- You’re comparing two quantities that may have **different-looking but equivalent units**.\n",
    "\n",
    "#### Note\n",
    "\n",
    "`.decompose()` will preserve the numeric value adjusted to match the new unit, and it will never return a unitless value **unless** the original expression is truly dimensionless.\n",
    "\n",
    "If you want to extract a scalar number (i.e., remove units entirely), you can use `.value` after decomposing.\n"
   ]
  },
  {
   "cell_type": "code",
   "execution_count": 92,
   "id": "e62e053f-f1b4-42da-98ca-dac0075bfa05",
   "metadata": {},
   "outputs": [
    {
     "name": "stdout",
     "output_type": "stream",
     "text": [
      "[Unit(\"Bq\"), Unit(\"Hz\"), Unit(\"2.7027e-11 Ci\")]\n"
     ]
    }
   ],
   "source": [
    "unit = u.s**-1\n",
    "alternative_units = unit.compose()\n",
    "print(alternative_units) #Lits of possible units"
   ]
  },
  {
   "cell_type": "markdown",
   "id": "52acbcee-b752-4e83-83b2-3dd060d8a588",
   "metadata": {},
   "source": [
    "### Example: Interpreting `1 / s` with `.compose()`\n",
    "\n",
    "The `.compose()` method allows us to rewrite a unit in terms of **known standard combinations** from physical sciences, making it easier to **understand the context** of a computation.\n",
    "\n",
    "Let’s take the unit `1 / second`, which occurs in many physical situations (frequencies, decay rates, oscillations). While `1/s` is technically complete, `.compose()` helps us uncover the **physical meanings** it may represent.\n",
    "\n",
    "#### What This Tells Us:\n",
    "\n",
    "- `Hz` (hertz) is used for frequency — cycles per second.\n",
    "- `Bq` (becquerel) is used for radioactive decay — disintegrations per second.\n",
    "- `Ci` (curie), though not SI, is a legacy unit for activity (with a scaling factor).\n",
    "\n",
    "These are **dimensionally identical**, but semantically distinct — and `.compose()` surfaces them all.\n",
    "\n",
    "#### Summary\n",
    "\n",
    "- `.compose()` helps **reveal context** by mapping abstract units like `1/s` to physical interpretations.\n",
    "- This is particularly useful in education, debugging, or reporting results in specific domains (e.g., nuclear physics vs. signal processing).\n",
    "- The method respects known units in the `astropy` system and returns all valid options.\n",
    "\n",
    "You can further restrict the search using `system='si'`, `system='cgs'`, or a custom system to control the output.\n"
   ]
  },
  {
   "cell_type": "markdown",
   "id": "0bdc59d2-0e05-4c92-a263-c074a85c8ecc",
   "metadata": {},
   "source": [
    "## Working with `astropy.units` and NumPy Arrays\n",
    "\n",
    "One of the powerful features of `astropy.units` is that it integrates smoothly with NumPy arrays, allowing you to perform **vectorized calculations** with **unit-aware data**.\n",
    "\n",
    "This is especially useful in astronomy, where data often comes in arrays (e.g., lists of distances, velocities, fluxes). With `Quantity` objects, you can attach physical units directly to arrays, and all subsequent computations will correctly propagate units.\n",
    "\n",
    "\n",
    "### Extending the Stefan–Boltzmann Law to Stellar Populations\n",
    "\n",
    "In the previous example, we used the Stefan–Boltzmann law to calculate the luminosity of a single star based on its radius and effective temperature. However, in many astrophysical contexts — such as stellar population synthesis, HR diagram analysis, or galaxy modeling — we often deal with **large arrays of stars**.\n",
    "\n",
    "Now, we extend the same physical principle to compute the luminosities of **multiple stars simultaneously**, each with its own temperature.\n",
    "\n",
    "This demonstrates how:\n",
    "- Units are preserved through element-wise operations,\n",
    "- You can use `.to()` to convert the entire array of results,\n",
    "- And unit consistency is automatically enforced — reducing the risk of mistakes."
   ]
  },
  {
   "cell_type": "code",
   "execution_count": 120,
   "id": "b973dea1-8488-45f1-b89b-8a574f8a83ae",
   "metadata": {},
   "outputs": [
    {
     "name": "stdout",
     "output_type": "stream",
     "text": [
      "[0.07297577 0.08216688 0.09220002 0.10312509 0.11499347 0.12785794\n",
      " 0.14177275 0.15679356 0.17297749 0.19038307] solLum\n"
     ]
    }
   ],
   "source": [
    "radii = 1 * u.R_sun         # stellar radii\n",
    "temperatures = np.linspace(3000, 30000, 300) * u.K# effective temperatures\n",
    "luminosities = 4 * np.pi * radii**2 * const.sigma_sb * temperatures**4 # Stefan–Boltzmann law \n",
    "print(luminosities.to(u.L_sun)[0:10]) #Convert all array elements and show 10 elements"
   ]
  },
  {
   "cell_type": "code",
   "execution_count": 145,
   "id": "0390760c-b2e5-46c3-bc88-e69be66e8c60",
   "metadata": {},
   "outputs": [
    {
     "data": {
      "text/latex": [
       "$162.84503 \\; \\mathrm{L_{\\odot}}$"
      ],
      "text/plain": [
       "<Quantity 162.84502705 solLum>"
      ]
     },
     "execution_count": 145,
     "metadata": {},
     "output_type": "execute_result"
    }
   ],
   "source": [
    "np.mean(luminosities.to(u.L_sun)) #works with numpy "
   ]
  },
  {
   "cell_type": "code",
   "execution_count": 128,
   "id": "5d724e9d-939c-4852-a341-8085334dad95",
   "metadata": {},
   "outputs": [
    {
     "data": {
      "text/plain": [
       "[<matplotlib.lines.Line2D at 0x7fe59e0a1310>]"
      ]
     },
     "execution_count": 128,
     "metadata": {},
     "output_type": "execute_result"
    },
    {
     "data": {
      "image/png": "[encoded data removed]",
      "text/plain": [
       "<Figure size 640x480 with 1 Axes>"
      ]
     },
     "metadata": {},
     "output_type": "display_data"
    }
   ],
   "source": [
    "from matplotlib import pyplot as plt\n",
    "from astropy.visualization import quantity_support\n",
    "quantity_support()\n",
    "\n",
    "plt.plot(temperatures,luminosities.to(u.L_sun))"
   ]
  },
  {
   "cell_type": "markdown",
   "id": "2edfc6e9-113f-4b98-877a-97ad1d5670d8",
   "metadata": {},
   "source": [
    "### Plotting with Astropy Quantities Using `quantity_support()`\n",
    "\n",
    "In this plot, we directly visualize the relationship between stellar **effective temperature** and **luminosity** using `astropy.units.Quantity` objects without stripping their units.\n",
    "\n",
    "To make this possible, we activate `astropy.visualization.quantity_support()` — a utility that allows **matplotlib** to understand and display physical units on axes automatically. This means we can pass `Quantity` arrays (like `temperatures` and `luminosities`) directly to `plt.plot()` without manual conversion.\n",
    "\n",
    "#### What happens:\n",
    "\n",
    "- The x-axis (temperature) is in Kelvin and comes directly from the `Quantity` array `temperatures`.\n",
    "- The y-axis (luminosity) is converted to **solar luminosities** using `.to(u.L_sun)`, still as a `Quantity`.\n",
    "- Units are automatically displayed on the axes (e.g., `[K]` and `[solLum]`).\n",
    "- The plot shows a steep, nonlinear rise in luminosity with increasing temperature, following the Stefan–Boltzmann law:\n",
    "\n",
    "$$\n",
    "L = 4\\pi R^2 \\sigma T_{\\text{eff}}^4\n",
    "$$\n",
    "\n",
    "This kind of unit-aware plotting is especially helpful in scientific workflows, as it preserves **dimensional clarity**, reduces errors, and makes your graphs **self-documenting**.\n",
    "\n"
   ]
  },
  {
   "cell_type": "markdown",
   "id": "9538b543-2bd2-4713-96a8-749721041efb",
   "metadata": {},
   "source": [
    "## Summary: astropy Units, Quantities, and Constants\n",
    "\n",
    "This lesson introduced the foundational tools in `astropy` for working with physical units and constants in scientific and astrophysical calculations. The use of unit-aware computations ensures dimensional consistency, scientific clarity, and code reliability.\n",
    "\n",
    "### Concepts Covered\n",
    "\n",
    "- **Astropy Units (`astropy.units`)**\n",
    "  - Assigning physical units to scalar values and arrays.\n",
    "  - Performing arithmetic operations with automatic unit propagation.\n",
    "  - Converting between compatible units using `.to()`.\n",
    "  - Simplifying units into base SI using `.decompose()`.\n",
    "  - Expressing units in familiar compound forms using `.compose()`.\n",
    "\n",
    "- **Physical Quantities (`Quantity`)**\n",
    "  - Combining numerical values with units to create `Quantity` objects.\n",
    "  - Supporting NumPy-style vectorized operations on arrays of quantities.\n",
    "  - Enabling scientific plotting directly with units using `quantity_support()`.\n",
    "\n",
    "- **Astropy Constants (`astropy.constants`)**\n",
    "  - Accessing predefined physical and astronomical constants.\n",
    "  - Using constants with units in physical equations.\n",
    "  - Ensuring precision and dimensional correctness in calculations.\n",
    "\n",
    "- **Scientific Visualization**\n",
    "  - Plotting quantities directly with axis labels showing physical units.\n",
    "  - Creating meaningful astrophysical plots such as luminosity-temperature diagram.\n",
    "\n",
    "### Additional features worth exploring\n",
    "\n",
    "- **Equivalencies**  \n",
    "  Enable conversions between units that are not dimensionally identical but are physically related (e.g., frequency ↔ wavelength ↔ energy, temperature ↔ energy).\n",
    "    https://docs.astropy.org/en/stable/units/equivalencies.html\n",
    "\n",
    "- **Custom Units**  \n",
    "  Define domain-specific or institutional units for specialized applications.\n",
    "    https://docs.astropy.org/en/stable/units/combining_and_defining.html\n",
    "\n",
    "- **Unit Formatting**  \n",
    "  Format units for LaTeX, Unicode, or plain text representations.\n",
    "      https://docs.astropy.org/en/stable/units/format.html"
   ]
  },
  {
   "cell_type": "markdown",
   "id": "4423eb82-6d51-43af-9e71-be5bcdebefc8",
   "metadata": {},
   "source": [
    "## Assignment: Determining Stellar Distances from Parallax\n",
    "\n",
    "In this task, you will compute the distances to nearby stars based on their **measured parallaxes** using `astropy.units`.\n",
    "\n",
    "### Scientific Background\n",
    "\n",
    "Stellar parallax is the apparent shift in a star's position due to Earth's orbit around the Sun. The distance \\( d \\) to a star in **parsecs** is inversely proportional to its parallax angle \\( p \\) in **arcseconds**:\n",
    "\n",
    "$$\n",
    "d = \\frac{1}{p}\n",
    "$$\n",
    "\n",
    "Where:\n",
    "- \\( d \\) — distance to the star (in parsecs),\n",
    "- \\( p \\) — parallax angle (in arcseconds).\n",
    "\n",
    "If the parallax is given in **milliarcseconds (mas)**, the formula becomes:\n",
    "\n",
    "$$\n",
    "d = \\frac{1000}{p_{\\text{mas}}}\n",
    "$$\n",
    "\n",
    "### Objective\n",
    "\n",
    "- Convert observed parallaxes in **milliarcseconds** into distances in **parsecs**, **light-years**, and **AU**, using `astropy.units`.\n",
    "\n",
    "---\n",
    "\n",
    "### Given Data\n",
    "\n",
    "| Star               | Parallax [mas] |\n",
    "|--------------------|----------------|\n",
    "| Proxima Centauri   | 768.5          |\n",
    "| Alpha Centauri A   | 747.1          |\n",
    "| Barnard's Star     | 548.3          |\n",
    "| Wolf 359           | 419.1          |\n",
    "| Lalande 21185      | 392.6          |\n",
    "| Sirius A           | 379.2          |\n",
    "| Luyten's Star      | 264.0          |\n",
    "| Ross 154           | 336.0          |\n",
    "| Epsilon Eridani    | 310.9          |\n",
    "| Lacaille 9352      | 304.2          |\n",
    "\n",
    "---\n",
    "\n",
    "### Tasks\n",
    "\n",
    "1. Convert parallax values (in milliarcseconds) to `Quantity` using `u.mas`.\n",
    "2. Convert parallax to distance in **parsecs** using the inverse relationship.\n",
    "3. Convert resulting distances to:\n",
    "   - **light-years** using `.to(u.lyr)`\n",
    "   - **astronomical units (AU)** using `.to(u.au)`\n"
   ]
  },
  {
   "cell_type": "markdown",
   "id": "8bfbeff2-47f4-4355-8b72-b6a3a0eadf5f",
   "metadata": {},
   "source": [
    "### Hint\n",
    "\n",
    "You can either use the `.value` attribute to extract the number from a `Quantity`.\n",
    "For a more elegant and unit-aware approach, you can apply an equivalency.\n",
    "To learn more, see: https://docs.astropy.org/en/stable/units/equivalencies.html"
   ]
  },
  {
   "cell_type": "markdown",
   "id": "9eec6979-1281-4c55-bb8d-a34ffb2cbed3",
   "metadata": {},
   "source": [
    "## Part II: Interstellar travel time with Voyager-like speed\n",
    "\n",
    "After computing distances to nearby stars from their parallaxes, estimate how long it would take a spacecraft traveling at Voyager 1’s speed (approximately 17 km/s) to reach them.\n",
    "\n",
    "### Given\n",
    "\n",
    "- Distance $d$ to each star (already computed from parallax)\n",
    "- Voyager 1 speed:  \n",
    "  $$v = 17\\ \\mathrm{km/s}$$\n",
    "\n",
    "### Formula\n",
    "\n",
    "The time $t$ required to travel distance $d$ is given by:\n",
    "\n",
    "$$\n",
    "t = \\frac{d}{v}\n",
    "$$\n",
    "\n",
    "\n",
    "### Tasks\n",
    "\n",
    "1. Use previously computed distances in **AU** or **parsecs** or even meters...\n",
    "2. Convert Voyager's speed to an `astropy.Quantity`:\n",
    "\n",
    "   $$v = 17\\ \\mathrm{km/s}$$\n",
    "\n",
    "3. Compute $t = d / v$ using astropy units.\n",
    "4. Express travel times in:\n",
    "   - **years**\n",
    "   - **millennia**\n",
    "5. Compare the results with the current age of humanity and the age of civilization."
   ]
  }
 ],
 "metadata": {
  "kernelspec": {
   "display_name": "Python 3 (ipykernel)",
   "language": "python",
   "name": "python3"
  },
  "language_info": {
   "codemirror_mode": {
    "name": "ipython",
    "version": 3
   },
   "file_extension": ".py",
   "mimetype": "text/x-python",
   "name": "python",
   "nbconvert_exporter": "python",
   "pygments_lexer": "ipython3",
   "version": "3.10.11"
  }
 },
 "nbformat": 4,
 "nbformat_minor": 5
}
