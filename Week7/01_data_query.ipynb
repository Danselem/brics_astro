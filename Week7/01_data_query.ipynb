{
 "cells": [
  {
   "cell_type": "markdown",
   "id": "32423ec5-6478-4ea5-a2cd-dd2c0c1384fc",
   "metadata": {},
   "source": [
    "# Vizier Data Query\n",
    "[![Open In Colab](https://colab.research.google.com/assets/colab-badge.svg)](https://colab.research.google.com/github/Danselem/brics_astro/blob/main/Week7/01_data_query.ipynb)\n",
    "\n",
    "\n",
    "Here is an example of how to query the SDSS DR16 data from [Vizier](https://vizier.cds.unistra.fr/viz-bin/VizieR).\n",
    "\n",
    "The data ID is `V/154/sdss16`. Information about the data can be found at NASA ADS with the link: <https://ui.adsabs.harvard.edu/abs/2020ApJS..249....3A/abstract>. Details of the catalog column is available here: <https://cdsarc.cds.unistra.fr/viz-bin/cat/V/154>."
   ]
  },
  {
   "cell_type": "code",
   "execution_count": 1,
   "id": "881efbec-6462-4f5c-84cf-33d82170cea8",
   "metadata": {},
   "outputs": [
    {
     "name": "stderr",
     "output_type": "stream",
     "text": [
      "WARNING: MergeConflictWarning: Cannot merge meta key 'null' types <class 'float'> and <class 'float'>, choosing null=nan [astropy.utils.metadata.merge]\n"
     ]
    }
   ],
   "source": [
    "from astroquery.vizier import Vizier\n",
    "from astropy.table import vstack\n",
    "\n",
    "# Vizier.ROW_LIMIT = 1000\n",
    "Vizier.TIMEOUT = 120\n",
    "\n",
    "cols = ['objID', 'RA_ICRS', 'DE_ICRS', 'class', 'umag',\n",
    "        'gmag', 'rmag', 'imag', 'zmag', 'spCl', 'subCl', 'zph', 'MJD']\n",
    "\n",
    "v = Vizier(columns=cols, catalog=\"V/154/sdss16\", row_limit=150000)\n",
    "\n",
    "# Get objects by spectral class\n",
    "galaxies = v.query_constraints(spCl=\"GALAXY\")[0]\n",
    "qsos     = v.query_constraints(spCl=\"QSO\")[0]\n",
    "stars    = v.query_constraints(spCl=\"STAR\")[0]\n",
    "\n",
    "# Stack results\n",
    "sds = vstack([galaxies, qsos, stars])"
   ]
  },
  {
   "cell_type": "code",
   "execution_count": 2,
   "id": "8251b850-82da-4b02-b874-1ace83d8d5c0",
   "metadata": {},
   "outputs": [],
   "source": [
    "sds = vstack([galaxies, qsos, stars])"
   ]
  },
  {
   "cell_type": "code",
   "execution_count": 3,
   "id": "8ede85de-1103-497e-a3d7-9bd59f313ab5",
   "metadata": {},
   "outputs": [
    {
     "data": {
      "text/html": [
       "<div><i>Table length=450000</i>\n",
       "<table id=\"table4380423408\" class=\"table-striped table-bordered table-condensed\">\n",
       "<thead><tr><th>objID</th><th>RA_ICRS</th><th>DE_ICRS</th><th>class</th><th>umag</th><th>gmag</th><th>rmag</th><th>imag</th><th>zmag</th><th>spCl</th><th>subCl</th><th>zph</th><th>MJD</th></tr></thead>\n",
       "<thead><tr><th></th><th>deg</th><th>deg</th><th></th><th>mag</th><th>mag</th><th>mag</th><th>mag</th><th>mag</th><th></th><th></th><th></th><th>d</th></tr></thead>\n",
       "<thead><tr><th>int64</th><th>float64</th><th>float64</th><th>uint8</th><th>float32</th><th>float32</th><th>float32</th><th>float32</th><th>float32</th><th>str6</th><th>str12</th><th>float32</th><th>float64</th></tr></thead>\n",
       "<tr><td>1237663784217084463</td><td>44.991889</td><td>0.040779</td><td>3</td><td>23.202</td><td>21.731</td><td>20.136</td><td>19.498</td><td>18.987</td><td>GALAXY</td><td></td><td>0.3671</td><td>52963.2664</td></tr>\n",
       "<tr><td>1237663784217084230</td><td>44.997801</td><td>0.063080</td><td>3</td><td>21.739</td><td>20.905</td><td>20.276</td><td>19.973</td><td>19.640</td><td>GALAXY</td><td>STARBURST</td><td>0.2365</td><td>52963.2664</td></tr>\n",
       "<tr><td>1237663784217084376</td><td>44.955188</td><td>0.054225</td><td>3</td><td>21.714</td><td>20.851</td><td>19.734</td><td>19.423</td><td>19.272</td><td>GALAXY</td><td></td><td>0.3736</td><td>52963.2664</td></tr>\n",
       "<tr><td>1237663784217084216</td><td>44.961076</td><td>0.077095</td><td>3</td><td>21.143</td><td>20.027</td><td>19.504</td><td>19.059</td><td>19.022</td><td>GALAXY</td><td>STARBURST</td><td>0.1349</td><td>52963.2664</td></tr>\n",
       "<tr><td>1237663784217084075</td><td>44.931939</td><td>0.077110</td><td>3</td><td>19.888</td><td>18.975</td><td>18.607</td><td>18.392</td><td>18.359</td><td>GALAXY</td><td>STARBURST</td><td>0.1043</td><td>52963.2664</td></tr>\n",
       "<tr><td>1237663784217084117</td><td>44.980259</td><td>0.093354</td><td>3</td><td>23.557</td><td>22.384</td><td>21.872</td><td>20.924</td><td>21.827</td><td>GALAXY</td><td></td><td>0.6221</td><td>52963.2664</td></tr>\n",
       "<tr><td>1237663784217084424</td><td>44.975252</td><td>0.127604</td><td>3</td><td>23.952</td><td>22.378</td><td>22.096</td><td>21.561</td><td>20.993</td><td>GALAXY</td><td></td><td>0.4493</td><td>52963.2664</td></tr>\n",
       "<tr><td>1237663784217149584</td><td>45.074930</td><td>0.110856</td><td>3</td><td>19.064</td><td>17.986</td><td>17.676</td><td>17.382</td><td>17.203</td><td>GALAXY</td><td>STARBURST</td><td>0.0534</td><td>52963.2668</td></tr>\n",
       "<tr><td>1237663784217149588</td><td>45.090614</td><td>0.136589</td><td>3</td><td>19.490</td><td>18.230</td><td>17.615</td><td>17.244</td><td>17.083</td><td>GALAXY</td><td>STARFORMING</td><td>0.0927</td><td>52963.2668</td></tr>\n",
       "<tr><td>...</td><td>...</td><td>...</td><td>...</td><td>...</td><td>...</td><td>...</td><td>...</td><td>...</td><td>...</td><td>...</td><td>...</td><td>...</td></tr>\n",
       "<tr><td>1237654381983170598</td><td>155.742436</td><td>58.910619</td><td>3</td><td>20.687</td><td>18.472</td><td>17.812</td><td>18.108</td><td>16.668</td><td>STAR</td><td>K1</td><td>0.6326</td><td>51935.2739</td></tr>\n",
       "<tr><td>1237653613189333263</td><td>155.550247</td><td>58.896320</td><td>6</td><td>23.192</td><td>21.613</td><td>19.975</td><td>18.038</td><td>16.929</td><td>STAR</td><td>M6</td><td>--</td><td>51875.3846</td></tr>\n",
       "<tr><td>1237655369818505878</td><td>155.534143</td><td>58.946723</td><td>6</td><td>24.888</td><td>21.578</td><td>20.928</td><td>20.795</td><td>20.485</td><td>STAR</td><td>G4V</td><td>--</td><td>52047.1532</td></tr>\n",
       "<tr><td>1237655369818636896</td><td>156.097029</td><td>59.085468</td><td>6</td><td>23.257</td><td>22.318</td><td>20.845</td><td>19.768</td><td>19.324</td><td>STAR</td><td>M3III</td><td>--</td><td>52047.1540</td></tr>\n",
       "<tr><td>1237654381982908473</td><td>154.668480</td><td>58.592408</td><td>6</td><td>20.919</td><td>20.177</td><td>19.983</td><td>19.992</td><td>19.882</td><td>STAR</td><td>A4V</td><td>--</td><td>51935.2722</td></tr>\n",
       "<tr><td>1237654381982908781</td><td>154.677939</td><td>58.649928</td><td>6</td><td>21.246</td><td>20.911</td><td>20.838</td><td>20.853</td><td>20.549</td><td>STAR</td><td>CV</td><td>--</td><td>51935.2722</td></tr>\n",
       "<tr><td>1237655369818374163</td><td>154.818572</td><td>58.795788</td><td>6</td><td>19.000</td><td>18.082</td><td>17.735</td><td>17.625</td><td>17.586</td><td>STAR</td><td>F3/F5V</td><td>--</td><td>52047.1523</td></tr>\n",
       "<tr><td>1237655369818439745</td><td>155.096163</td><td>58.812224</td><td>6</td><td>22.752</td><td>20.303</td><td>19.099</td><td>18.628</td><td>18.415</td><td>STAR</td><td>K5Ve</td><td>--</td><td>52047.1528</td></tr>\n",
       "<tr><td>1237655369818439859</td><td>155.079645</td><td>58.858260</td><td>6</td><td>25.496</td><td>22.386</td><td>20.605</td><td>18.151</td><td>16.834</td><td>STAR</td><td>M7</td><td>--</td><td>52047.1528</td></tr>\n",
       "</table></div>"
      ],
      "text/plain": [
       "<Table length=450000>\n",
       "       objID         RA_ICRS    DE_ICRS   ...    subCl      zph      MJD    \n",
       "                       deg        deg     ...                         d     \n",
       "       int64         float64    float64   ...    str12    float32  float64  \n",
       "------------------- ---------- ---------- ... ----------- ------- ----------\n",
       "1237663784217084463  44.991889   0.040779 ...              0.3671 52963.2664\n",
       "1237663784217084230  44.997801   0.063080 ...   STARBURST  0.2365 52963.2664\n",
       "1237663784217084376  44.955188   0.054225 ...              0.3736 52963.2664\n",
       "1237663784217084216  44.961076   0.077095 ...   STARBURST  0.1349 52963.2664\n",
       "1237663784217084075  44.931939   0.077110 ...   STARBURST  0.1043 52963.2664\n",
       "1237663784217084117  44.980259   0.093354 ...              0.6221 52963.2664\n",
       "1237663784217084424  44.975252   0.127604 ...              0.4493 52963.2664\n",
       "1237663784217149584  45.074930   0.110856 ...   STARBURST  0.0534 52963.2668\n",
       "1237663784217149588  45.090614   0.136589 ... STARFORMING  0.0927 52963.2668\n",
       "                ...        ...        ... ...         ...     ...        ...\n",
       "1237654381983170598 155.742436  58.910619 ...          K1  0.6326 51935.2739\n",
       "1237653613189333263 155.550247  58.896320 ...          M6      -- 51875.3846\n",
       "1237655369818505878 155.534143  58.946723 ...         G4V      -- 52047.1532\n",
       "1237655369818636896 156.097029  59.085468 ...       M3III      -- 52047.1540\n",
       "1237654381982908473 154.668480  58.592408 ...         A4V      -- 51935.2722\n",
       "1237654381982908781 154.677939  58.649928 ...          CV      -- 51935.2722\n",
       "1237655369818374163 154.818572  58.795788 ...      F3/F5V      -- 52047.1523\n",
       "1237655369818439745 155.096163  58.812224 ...        K5Ve      -- 52047.1528\n",
       "1237655369818439859 155.079645  58.858260 ...          M7      -- 52047.1528"
      ]
     },
     "execution_count": 3,
     "metadata": {},
     "output_type": "execute_result"
    }
   ],
   "source": [
    "sds"
   ]
  },
  {
   "cell_type": "code",
   "execution_count": 4,
   "id": "a0bfd7c7-17f0-4b9e-bd11-cc45a172f45a",
   "metadata": {},
   "outputs": [],
   "source": [
    "sds.write('data/sdssdr16-class.csv', format='csv', overwrite=True)"
   ]
  },
  {
   "cell_type": "code",
   "execution_count": null,
   "id": "ddc83601-9b55-4802-a77f-f5473745eb1d",
   "metadata": {},
   "outputs": [],
   "source": []
  }
 ],
 "metadata": {
  "kernelspec": {
   "display_name": "Python 3 (ipykernel)",
   "language": "python",
   "name": "python3"
  },
  "language_info": {
   "codemirror_mode": {
    "name": "ipython",
    "version": 3
   },
   "file_extension": ".py",
   "mimetype": "text/x-python",
   "name": "python",
   "nbconvert_exporter": "python",
   "pygments_lexer": "ipython3",
   "version": "3.10.11"
  }
 },
 "nbformat": 4,
 "nbformat_minor": 5
}
